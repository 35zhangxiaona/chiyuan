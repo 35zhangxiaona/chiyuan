{
 "cells": [
  {
   "cell_type": "code",
   "execution_count": 32,
   "metadata": {},
   "outputs": [],
   "source": [
    "import numpy as np\n",
    "import matplotlib.pyplot as plt\n",
    "import pdb"
   ]
  },
  {
   "cell_type": "markdown",
   "metadata": {},
   "source": [
    "### Step1:  Sample code settings"
   ]
  },
  {
   "cell_type": "code",
   "execution_count": 21,
   "metadata": {},
   "outputs": [],
   "source": [
    "img = np.ones((300, 400), np.uint8)*255\n",
    "dets = np.array([\n",
    "    [83,54,165,163,0.8], \n",
    "    [67,48,118,132,0.5], \n",
    "    [91,38,192,171,0.6]], np.float)\n",
    "\n",
    "# removing confidence term\n",
    "boxes = dets[:, :-1]"
   ]
  },
  {
   "cell_type": "code",
   "execution_count": 82,
   "metadata": {},
   "outputs": [
    {
     "data": {
      "image/png": "[encoded data removed]",
      "text/plain": [
       "<Figure size 432x288 with 1 Axes>"
      ]
     },
     "metadata": {
      "needs_background": "light"
     },
     "output_type": "display_data"
    }
   ],
   "source": [
    "def show_boxes(img, boxes):\n",
    "    plt.imshow(img, 'gray')\n",
    "    for box in boxes:\n",
    "        plt.gca().add_patch(plt.Rectangle((box[0],box[1]), box[2]-box[0],box[3]-box[1], fill=False, color='w'))\n",
    "    plt.show()\n",
    "show_boxes(img, boxes)"
   ]
  },
  {
   "cell_type": "markdown",
   "metadata": {},
   "source": [
    "### Step2: Naive NMS"
   ]
  },
  {
   "cell_type": "markdown",
   "metadata": {},
   "source": [
    "* NMS算法简单的说，就是先将所有boxes按照某个标准（如confidence大小)进行优先级排序，然后按优先级从高到低的顺序依次取box并与其他box逐一比较iou，若iou大于阈值则抑制，否则保留。　　\n",
    "  \n",
    "  \n",
    "* 一个误区是认为NMS必须先将boxes按照confidence排序。其实并非如此。按照什么标准排优先级都可以抑制掉大部分boxes，唯一的区别在于，不同的排序标准会导致NMS之后倾向于留下不同的box。比如下面的代码按照每个box的最小横坐标，即x1s进行排序，x1越小的优先权越大。那么当我们把阈值调的很低时，剩下的唯一一个box就是最左边那个box。  \n",
    "  \n",
    "  \n",
    "* 注意: np.argsort默认是按照从小到大的顺序排列,且第二个参数应为索引下标"
   ]
  },
  {
   "cell_type": "code",
   "execution_count": 129,
   "metadata": {},
   "outputs": [],
   "source": [
    "def nms(boxes, thresh=0.3):\n",
    "    x1s, x2s = boxes[:, 0], boxes[:, 2]\n",
    "    y1s, y2s = boxes[:, 1], boxes[:, 3]\n",
    "    \n",
    "    areas = (x2s-x1s+1) * (y2s-y1s+1)\n",
    "    idxs = np.argsort(x1s)\n",
    "    \n",
    "    pick = []\n",
    "    \n",
    "    #只要idxs中还有元素，就继续\n",
    "    while len(idxs)>0:\n",
    "        #这里的idxs是按照某种优先级对boxes进行排序。正常情况下优先级是confidence。\n",
    "        #该段代码先以box的xmin为排序指标\n",
    "        first = idxs[0]\n",
    "        #注意: 优先权最高的box必然会被pick\n",
    "        pick.append(first)\n",
    "        \n",
    "        #即使所有其他box都未被抑制，当前loop的基准box(first)也会被从idx中去除\n",
    "        suppress = [0]\n",
    "\n",
    "        #以first为基准box，与剩下的box逐一比较iou\n",
    "        for j, curr in enumerate(idxs[1:]):\n",
    "            j = j+1 #0号box为base，应跳过\n",
    "            x1_inter = max(x1s[first], x1s[curr])\n",
    "            y1_inter = max(y1s[first], y1s[curr])\n",
    "            x2_inter = min(x2s[first], x2s[curr])\n",
    "            y2_inter = min(y2s[first], y2s[curr])\n",
    "            intersection = (y2_inter-y1_inter+1) * (x2_inter-x1_inter+1)\n",
    "            union = areas[first] + areas[curr] - intersection\n",
    "            iou = intersection / union\n",
    "            if iou > thresh:\n",
    "                suppress.append(j)\n",
    "                \n",
    "        #np.delete第二个参数是索引下标\n",
    "        idxs = np.delete(idxs, suppress)\n",
    "    return boxes[pick]"
   ]
  },
  {
   "cell_type": "code",
   "execution_count": 130,
   "metadata": {
    "scrolled": true
   },
   "outputs": [
    {
     "data": {
      "text/plain": [
       "array([[ 67.,  48., 118., 132.]])"
      ]
     },
     "execution_count": 130,
     "metadata": {},
     "output_type": "execute_result"
    }
   ],
   "source": [
    "nms(boxes, 0.1)"
   ]
  },
  {
   "cell_type": "code",
   "execution_count": 131,
   "metadata": {},
   "outputs": [
    {
     "data": {
      "image/png": "[encoded data removed]",
      "text/plain": [
       "<Figure size 432x288 with 1 Axes>"
      ]
     },
     "metadata": {
      "needs_background": "light"
     },
     "output_type": "display_data"
    },
    {
     "data": {
      "image/png": "[encoded data removed]",
      "text/plain": [
       "<Figure size 432x288 with 1 Axes>"
      ]
     },
     "metadata": {
      "needs_background": "light"
     },
     "output_type": "display_data"
    }
   ],
   "source": [
    "plt.subplot(211)\n",
    "show_boxes(img, boxes)\n",
    "plt.subplot(212)\n",
    "show_boxes(img, nms(boxes,0.3))"
   ]
  },
  {
   "cell_type": "code",
   "execution_count": 132,
   "metadata": {},
   "outputs": [
    {
     "data": {
      "image/png": "[encoded data removed]",
      "text/plain": [
       "<Figure size 432x288 with 1 Axes>"
      ]
     },
     "metadata": {
      "needs_background": "light"
     },
     "output_type": "display_data"
    },
    {
     "data": {
      "image/png": "[encoded data removed]",
      "text/plain": [
       "<Figure size 432x288 with 1 Axes>"
      ]
     },
     "metadata": {
      "needs_background": "light"
     },
     "output_type": "display_data"
    }
   ],
   "source": [
    "plt.subplot(211)\n",
    "show_boxes(img, boxes)\n",
    "plt.subplot(212)\n",
    "show_boxes(img, nms(boxes,0.1))"
   ]
  },
  {
   "cell_type": "markdown",
   "metadata": {},
   "source": [
    "* 接下来的版本更加常用，因为其排优先级的标准是每个box的confidence。"
   ]
  },
  {
   "cell_type": "code",
   "execution_count": 133,
   "metadata": {},
   "outputs": [],
   "source": [
    "def show_dets(img, dets):\n",
    "    plt.imshow(img, 'gray')\n",
    "    for det in dets:\n",
    "        plt.gca().add_patch(plt.Rectangle((det[0],det[1]), \n",
    "                                          det[2]-det[0],det[3]-det[1], fill=False, color='w'))\n",
    "        plt.text(det[0], det[1], str(det[-1]), color='r', fontsize=8)\n",
    "    plt.show()\n",
    "\n",
    "\n",
    "def nms_v2(dets, thresh=0.3):\n",
    "    x1s, x2s = dets[:, 0], dets[:, 2]\n",
    "    y1s, y2s = dets[:, 1], dets[:, 3]\n",
    "    confs = dets[:, 4]\n",
    "    \n",
    "    areas = (x2s-x1s+1) * (y2s-y1s+1)\n",
    "    idxs = np.argsort(confs)[::-1]\n",
    "    \n",
    "    pick = []\n",
    "    \n",
    "    #只要idxs中还有元素，就继续\n",
    "    while len(idxs)>0:\n",
    "        first = idxs[0]\n",
    "        #注意: 优先权最高的box必然会被pick\n",
    "        pick.append(first)\n",
    "        \n",
    "        #即使所有其他box都未被抑制，当前loop的基准box(first)也会被从idx中去除\n",
    "        suppress = [0]\n",
    "\n",
    "        #以first为基准box，与剩下的box逐一比较iou\n",
    "        for j, curr in enumerate(idxs[1:]):\n",
    "            j = j+1 #0号box为base，应跳过\n",
    "            x1_inter = max(x1s[first], x1s[curr])\n",
    "            y1_inter = max(y1s[first], y1s[curr])\n",
    "            x2_inter = min(x2s[first], x2s[curr])\n",
    "            y2_inter = min(y2s[first], y2s[curr])\n",
    "            intersection = (y2_inter-y1_inter+1) * (x2_inter-x1_inter+1)\n",
    "            union = areas[first] + areas[curr] - intersection\n",
    "            iou = intersection / union\n",
    "            if iou > thresh:\n",
    "                suppress.append(j)\n",
    "                \n",
    "        #np.delete第二个参数是索引下标\n",
    "        idxs = np.delete(idxs, suppress)\n",
    "    return dets[pick]"
   ]
  },
  {
   "cell_type": "code",
   "execution_count": 134,
   "metadata": {},
   "outputs": [
    {
     "data": {
      "image/png": "[encoded data removed]",
      "text/plain": [
       "<Figure size 432x288 with 1 Axes>"
      ]
     },
     "metadata": {
      "needs_background": "light"
     },
     "output_type": "display_data"
    },
    {
     "data": {
      "image/png": "[encoded data removed]",
      "text/plain": [
       "<Figure size 432x288 with 1 Axes>"
      ]
     },
     "metadata": {
      "needs_background": "light"
     },
     "output_type": "display_data"
    }
   ],
   "source": [
    "plt.subplot(211)\n",
    "show_dets(img, dets)\n",
    "plt.subplot(212)\n",
    "show_dets(img, nms_v2(dets,0.1))"
   ]
  },
  {
   "cell_type": "markdown",
   "metadata": {},
   "source": [
    "* 可以看出，如果thresh设的很小，这次剩下的box会倾向于confidence高的box。  \n",
    "  \n",
    "\n",
    "* 此外，上面的nms算法实现比较naive，使用了双层循环，其实速度比较慢:"
   ]
  },
  {
   "cell_type": "code",
   "execution_count": 258,
   "metadata": {},
   "outputs": [
    {
     "name": "stdout",
     "output_type": "stream",
     "text": [
      "CPU times: user 5.86 s, sys: 130 ms, total: 5.99 s\n",
      "Wall time: 5.85 s\n"
     ]
    }
   ],
   "source": [
    "%%time\n",
    "for _ in range(100000):\n",
    "    _ = nms_v2(dets,0.3)"
   ]
  },
  {
   "cell_type": "markdown",
   "metadata": {},
   "source": [
    "### Step3: 优化——去掉内层循环"
   ]
  },
  {
   "cell_type": "code",
   "execution_count": 236,
   "metadata": {},
   "outputs": [],
   "source": [
    "def nms_v3(dets, thresh=0.3):\n",
    "    x1s, x2s = dets[:, 0], dets[:, 2]\n",
    "    y1s, y2s = dets[:, 1], dets[:, 3]\n",
    "    confs = dets[:, 4]\n",
    "    \n",
    "    areas = (x2s-x1s+1) * (y2s-y1s+1)\n",
    "    idxs = np.argsort(confs)[::-1]\n",
    "    \n",
    "    pick = []\n",
    "    \n",
    "    #只要idxs中还有元素，就继续\n",
    "    while len(idxs)>0:\n",
    "        first = idxs[0]\n",
    "        #注意: 优先权最高的box必然会被pick\n",
    "        pick.append(first)\n",
    "        if len(idxs)==1:\n",
    "            return dets[pick]\n",
    "        \n",
    "        suppress = [0]\n",
    "\n",
    "        #比较当前base box（１个）和剩下所有boxes（n-1个），得到n-1维向量\n",
    "        x1_inter = np.maximum(x1s[first], x1s[idxs[1:]])\n",
    "        y1_inter = np.maximum(y1s[first], y1s[idxs[1:]])\n",
    "        x2_inter = np.minimum(x2s[first], x2s[idxs[1:]])\n",
    "        y2_inter = np.minimum(y2s[first], y2s[idxs[1:]])\n",
    "\n",
    "        intersections = (y2_inter-y1_inter+1) * (x2_inter-x1_inter+1)\n",
    "        unions = areas[first] + areas[idxs[1:]] - intersections\n",
    "        ious = intersections / unions\n",
    "        \n",
    "        #注意np.where得到的下标是从0开始计数的，而下标0是base box，即first\n",
    "        suppress += (np.where(ious>thresh)[0] + 1).tolist()\n",
    "        idxs = np.delete(idxs, suppress)\n",
    "        #idxs = np.delete(idxs, np.concatenate((np.where(ious>thresh)[0] + 1, [0])))\n",
    "        \n",
    "    return dets[pick]"
   ]
  },
  {
   "cell_type": "markdown",
   "metadata": {},
   "source": [
    "* Note: You have to use the np.maximum  and np.minimum  functions here — they allow you to mix scalars and vectors. The np.max  and np.min  functions do not, and if you use them, you will find yourself with some pretty fierce bugs to find and fix. "
   ]
  },
  {
   "cell_type": "code",
   "execution_count": 237,
   "metadata": {},
   "outputs": [
    {
     "data": {
      "image/png": "[encoded data removed]",
      "text/plain": [
       "<Figure size 432x288 with 1 Axes>"
      ]
     },
     "metadata": {
      "needs_background": "light"
     },
     "output_type": "display_data"
    },
    {
     "data": {
      "image/png": "[encoded data removed]",
      "text/plain": [
       "<Figure size 432x288 with 1 Axes>"
      ]
     },
     "metadata": {
      "needs_background": "light"
     },
     "output_type": "display_data"
    }
   ],
   "source": [
    "plt.subplot(211)\n",
    "show_dets(img, dets)\n",
    "plt.subplot(212)\n",
    "show_dets(img, nms_v3(dets,0.1))"
   ]
  },
  {
   "cell_type": "markdown",
   "metadata": {},
   "source": [
    "* 比较下优化之后的时间"
   ]
  },
  {
   "cell_type": "code",
   "execution_count": 257,
   "metadata": {},
   "outputs": [
    {
     "name": "stdout",
     "output_type": "stream",
     "text": [
      "CPU times: user 4.93 s, sys: 147 ms, total: 5.07 s\n",
      "Wall time: 4.9 s\n"
     ]
    }
   ],
   "source": [
    "%%time\n",
    "for _ in range(100000):\n",
    "    _ = nms_v3(dets,0.3)"
   ]
  },
  {
   "cell_type": "markdown",
   "metadata": {},
   "source": [
    "* 用到了numpy的向量化并去掉一个循环，但是速度提高没有想象中的多...不知道是哪里出了问题？应该不会是if占用很多时间，可能是tolist?"
   ]
  },
  {
   "cell_type": "markdown",
   "metadata": {},
   "source": [
    "### 参考：　　\n",
    "* https://www.pyimagesearch.com/2014/11/17/non-maximum-suppression-object-detection-python/  \n",
    "* https://blog.csdn.net/hzhj2007/article/details/79801307　　\n",
    "* https://www.pyimagesearch.com/2015/02/16/faster-non-maximum-suppression-python/"
   ]
  },
  {
   "cell_type": "markdown",
   "metadata": {},
   "source": [
    "### 实验区"
   ]
  },
  {
   "cell_type": "code",
   "execution_count": 45,
   "metadata": {},
   "outputs": [],
   "source": [
    "t = np.arange(8)"
   ]
  },
  {
   "cell_type": "code",
   "execution_count": 140,
   "metadata": {},
   "outputs": [],
   "source": [
    "x1s, x2s = boxes[:, 0], boxes[:, 2]\n",
    "y1s, y2s = boxes[:, 1], boxes[:, 3]\n",
    "\n",
    "areas = (x2s-x1s+1) * (y2s-y1s+1)\n",
    "idxs = np.argsort(y1s)"
   ]
  },
  {
   "cell_type": "code",
   "execution_count": 142,
   "metadata": {},
   "outputs": [
    {
     "data": {
      "text/plain": [
       "array([91., 83.])"
      ]
     },
     "execution_count": 142,
     "metadata": {},
     "output_type": "execute_result"
    }
   ],
   "source": [
    "i = 0\n",
    "last = len(idxs) - 1\n",
    "np.maximum(x1s[i], x1s[idxs[:last]])"
   ]
  },
  {
   "cell_type": "code",
   "execution_count": 144,
   "metadata": {},
   "outputs": [
    {
     "data": {
      "text/plain": [
       "83.0"
      ]
     },
     "execution_count": 144,
     "metadata": {},
     "output_type": "execute_result"
    }
   ],
   "source": [
    "x1s[i]"
   ]
  },
  {
   "cell_type": "code",
   "execution_count": 145,
   "metadata": {},
   "outputs": [
    {
     "data": {
      "text/plain": [
       "array([91., 67.])"
      ]
     },
     "execution_count": 145,
     "metadata": {},
     "output_type": "execute_result"
    }
   ],
   "source": [
    "x1s[idxs[:last]]"
   ]
  },
  {
   "cell_type": "markdown",
   "metadata": {},
   "source": [
    "* np.maximumu等函数的参数如果为空矩阵："
   ]
  },
  {
   "cell_type": "code",
   "execution_count": 227,
   "metadata": {},
   "outputs": [
    {
     "data": {
      "text/plain": [
       "array([], dtype=float64)"
      ]
     },
     "execution_count": 227,
     "metadata": {},
     "output_type": "execute_result"
    }
   ],
   "source": [
    "np.maximum(np.array([12]).tolist(), np.array([]).tolist())"
   ]
  },
  {
   "cell_type": "code",
   "execution_count": null,
   "metadata": {},
   "outputs": [],
   "source": []
  }
 ],
 "metadata": {
  "kernelspec": {
   "display_name": "Python 3",
   "language": "python",
   "name": "python3"
  },
  "language_info": {
   "codemirror_mode": {
    "name": "ipython",
    "version": 3
   },
   "file_extension": ".py",
   "mimetype": "text/x-python",
   "name": "python",
   "nbconvert_exporter": "python",
   "pygments_lexer": "ipython3",
   "version": "3.5.2"
  }
 },
 "nbformat": 4,
 "nbformat_minor": 2
}
