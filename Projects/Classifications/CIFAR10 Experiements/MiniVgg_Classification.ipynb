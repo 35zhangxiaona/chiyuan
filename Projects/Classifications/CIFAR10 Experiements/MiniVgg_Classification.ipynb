{
 "cells": [
  {
   "cell_type": "markdown",
   "metadata": {},
   "source": [
    "* 该notebook复习使用keras搭建一个mini-vgg并完成分类任务"
   ]
  },
  {
   "cell_type": "code",
   "execution_count": 12,
   "metadata": {},
   "outputs": [],
   "source": [
    "import os\n",
    "from keras.datasets import cifar10\n",
    "from keras.layers.convolutional import Conv2D, MaxPooling2D, AveragePooling2D\n",
    "from keras.layers.core import Activation, Flatten, Dense, Dropout\n",
    "from keras.layers.normalization import BatchNormalization\n",
    "from keras.models import Sequential\n",
    "from keras.optimizers import SGD\n",
    "from keras.utils import multi_gpu_model\n",
    "from keras import backend as K\n",
    "import matplotlib.pyplot as plt"
   ]
  },
  {
   "cell_type": "markdown",
   "metadata": {},
   "source": [
    "## Step0: DataLoader"
   ]
  },
  {
   "cell_type": "code",
   "execution_count": 3,
   "metadata": {},
   "outputs": [],
   "source": [
    "def loadCifar():\n",
    "    (trainX, trainY),(testX, testY) = cifar10.load_data()\n",
    "    trainX = trainX.astype(\"float\") / 255\n",
    "    testX = testX.astype(\"float\") / 255\n",
    "    lb = LabelBinarizer()\n",
    "    trainY = lb.fit_transform(trainY)\n",
    "    testY = lb.fit_transform(testY)\n",
    "    labelNames = [\"airplane\", \"automobile\", \"bird\", \"cat\", \"deer\", \n",
    "                  \"dog\", \"frog\", \"horse\", \"ship\", \"truck\"]\n",
    "    return (trainX, trainY), (testX, testY), labelNames"
   ]
  },
  {
   "cell_type": "markdown",
   "metadata": {},
   "source": [
    "## Step1：Build Model"
   ]
  },
  {
   "cell_type": "markdown",
   "metadata": {},
   "source": [
    "  Overall, MiniVGGNet consists of two sets of CONV => RELU => CONV => RELU => POOL\n",
    "layers, followed by a set of FC => RELU => FC => SOFTMAX layers.   \n",
    "  The first two CONV layers will learn 32 filters, each of size 3x3. The second two CONV layers will learn 64 filters, again, each\n",
    "of size 3x3.   \n",
    "  Our POOL layers will perform max pooling over a 2x2 window with a 2x2 stride.  \n",
    "  We’ll also be inserting batch normalization layers after the activations along with dropout layers\n",
    "(DO) after the POOL and FC layers."
   ]
  },
  {
   "cell_type": "code",
   "execution_count": 12,
   "metadata": {},
   "outputs": [],
   "source": [
    "class MiniVGGNet:\n",
    "    @staticmethod  # 静态方法: 无需实例化即可调用类中的方法\n",
    "    def build(width, height, depth, classes):\n",
    "        chanDim=-1\n",
    "        inputShape=(height, width, depth)\n",
    "        \n",
    "        if K.image_data_format == \"channel_first\":\n",
    "            inputShape = (depth, height, width)\n",
    "            chanDim=1\n",
    "        \n",
    "        model = Sequential()\n",
    "        model.add(Conv2D(32, (3, 3), padding='same',input_shape=inputShape))\n",
    "        model.add(Activation('relu'))\n",
    "        model.add(BatchNormalization(axis=chanDim))\n",
    "        model.add(Conv2D(32, (3, 3), padding='same'))\n",
    "        model.add(Activation('relu'))\n",
    "        model.add(BatchNormalization(axis=chanDim))\n",
    "        model.add(MaxPooling2D(strides=2))\n",
    "        model.add(Dropout(0.25))\n",
    "        \n",
    "        model.add(Conv2D(64, (3, 3), padding='same'))\n",
    "        model.add(Activation('relu'))\n",
    "        model.add(BatchNormalization())\n",
    "        model.add(Conv2D(64, (3, 3), padding='same'))\n",
    "        model.add(Activation('relu'))\n",
    "        model.add(BatchNormalization())\n",
    "        model.add(MaxPooling2D(strides=2))\n",
    "        model.add(Dropout(0.25))\n",
    "        \n",
    "        model.add(Flatten())\n",
    "        model.add(Dense(512))\n",
    "        model.add(Activation('relu'))\n",
    "        model.add(BatchNormalization())\n",
    "        model.add(Dropout(0.5))\n",
    "        model.add(Dense(classes))\n",
    "        model.add(Activation('softmax'))\n",
    "        \n",
    "        return model"
   ]
  },
  {
   "cell_type": "code",
   "execution_count": 13,
   "metadata": {},
   "outputs": [],
   "source": [
    "#regular check\n",
    "# model = MiniVGGNet.build(32,32,3,10)\n",
    "# from keras.utils import plot_model\n",
    "# plot_model(model, 'model.png')"
   ]
  },
  {
   "cell_type": "markdown",
   "metadata": {},
   "source": [
    "### Step2: Train Loop"
   ]
  },
  {
   "cell_type": "code",
   "execution_count": 4,
   "metadata": {},
   "outputs": [],
   "source": [
    "from sklearn.preprocessing import LabelBinarizer\n",
    "from sklearn.metrics import classification_report\n",
    "from keras.optimizers import SGD\n",
    "import numpy as np"
   ]
  },
  {
   "cell_type": "code",
   "execution_count": 5,
   "metadata": {},
   "outputs": [],
   "source": [
    "def train(trainX, trainY, testX, testY, lr=0.01, num_epochs=40, classes=10, labelNames=None):\n",
    "    optimizer = SGD(lr=lr, decay=lr/num_epochs, momentum=0.9, nesterov=True)  #使用默认的decay方法\n",
    "    model = MiniVGGNet.build(32, 32, 3, classes)\n",
    "    parallel_model = multi_gpu_model(model, gpus=2)\n",
    "    model.compile(loss=\"categorical_crossentropy\", optimizer=optimizer, metrics=[\"accuracy\"])\n",
    "    print(\"[INFO] training network...\")\n",
    "    H = model.fit(trainX, trainY, 64, num_epochs, validation_data=(testX, testY), verbose=1)\n",
    "    print(\"[INFO] evaluating network...\")\n",
    "    predictions = model.predict(testX, batch_size=128)\n",
    "    print(classification_report(testY.argmax(axis=1), predictions.argmax(axis=1), target_names=labelNames))\n",
    "    plt.style.use(\"ggplot\")\n",
    "    plt.figure()\n",
    "    plt.plot(np.arange(num_epochs), H.history[\"loss\"], label=\"train_loss\")\n",
    "    plt.plot(np.arange(num_epochs), H.history[\"val_loss\"], label=\"val_loss\")\n",
    "    plt.plot(np.arange(num_epochs), H.history[\"acc\"], label=\"acc\")\n",
    "    plt.plot(np.arange(num_epochs), H.history[\"val_acc\"], label=\"val_acc\")\n",
    "    plt.title(\"Training Loss and Accuracy on CIFAR-10\")\n",
    "    plt.xlabel(\"Epoch #\")\n",
    "    plt.ylabel(\"Loss/Accuracy\")\n",
    "    plt.legend()\n",
    "    plt.savefig(\"training_curve.png\")\n",
    "    "
   ]
  },
  {
   "cell_type": "code",
   "execution_count": 16,
   "metadata": {},
   "outputs": [
    {
     "name": "stdout",
     "output_type": "stream",
     "text": [
      "[INFO] training network...\n",
      "WARNING:tensorflow:Variable *= will be deprecated. Use variable.assign_mul if you want assignment to the variable value or 'x = x * y' if you want a new python Tensor object.\n",
      "Train on 50000 samples, validate on 10000 samples\n",
      "Epoch 1/40\n",
      "50000/50000 [==============================] - 12s 231us/step - loss: 1.6047 - acc: 0.4666 - val_loss: 1.2198 - val_acc: 0.5780\n",
      "Epoch 2/40\n",
      "50000/50000 [==============================] - 9s 174us/step - loss: 1.1480 - acc: 0.6026 - val_loss: 0.9575 - val_acc: 0.6670\n",
      "Epoch 3/40\n",
      "50000/50000 [==============================] - 9s 172us/step - loss: 0.9716 - acc: 0.6612 - val_loss: 0.9483 - val_acc: 0.6646\n",
      "Epoch 4/40\n",
      "50000/50000 [==============================] - 9s 175us/step - loss: 0.8559 - acc: 0.7007 - val_loss: 0.7902 - val_acc: 0.7232\n",
      "Epoch 5/40\n",
      "50000/50000 [==============================] - 9s 173us/step - loss: 0.7810 - acc: 0.7265 - val_loss: 0.7106 - val_acc: 0.7550\n",
      "Epoch 6/40\n",
      "50000/50000 [==============================] - 9s 174us/step - loss: 0.7203 - acc: 0.7480 - val_loss: 0.6754 - val_acc: 0.7622\n",
      "Epoch 7/40\n",
      "50000/50000 [==============================] - 9s 176us/step - loss: 0.6727 - acc: 0.7624 - val_loss: 0.6365 - val_acc: 0.7783\n",
      "Epoch 8/40\n",
      "50000/50000 [==============================] - 9s 174us/step - loss: 0.6400 - acc: 0.7737 - val_loss: 0.6414 - val_acc: 0.7751\n",
      "Epoch 9/40\n",
      "50000/50000 [==============================] - 9s 173us/step - loss: 0.6021 - acc: 0.7886 - val_loss: 0.6103 - val_acc: 0.7896\n",
      "Epoch 10/40\n",
      "50000/50000 [==============================] - 9s 174us/step - loss: 0.5762 - acc: 0.7973 - val_loss: 0.6066 - val_acc: 0.7923\n",
      "Epoch 11/40\n",
      "50000/50000 [==============================] - 9s 173us/step - loss: 0.5408 - acc: 0.8107 - val_loss: 0.5972 - val_acc: 0.7920\n",
      "Epoch 12/40\n",
      "50000/50000 [==============================] - 9s 174us/step - loss: 0.5240 - acc: 0.8166 - val_loss: 0.5886 - val_acc: 0.7992\n",
      "Epoch 13/40\n",
      "50000/50000 [==============================] - 9s 172us/step - loss: 0.4965 - acc: 0.8246 - val_loss: 0.5917 - val_acc: 0.7990\n",
      "Epoch 14/40\n",
      "50000/50000 [==============================] - 9s 175us/step - loss: 0.4823 - acc: 0.8298 - val_loss: 0.5808 - val_acc: 0.8015\n",
      "Epoch 15/40\n",
      "50000/50000 [==============================] - 9s 175us/step - loss: 0.4623 - acc: 0.8358 - val_loss: 0.5733 - val_acc: 0.8035\n",
      "Epoch 16/40\n",
      "50000/50000 [==============================] - 9s 173us/step - loss: 0.4491 - acc: 0.8418 - val_loss: 0.5624 - val_acc: 0.8125\n",
      "Epoch 17/40\n",
      "50000/50000 [==============================] - 9s 175us/step - loss: 0.4311 - acc: 0.8474 - val_loss: 0.5489 - val_acc: 0.8164\n",
      "Epoch 18/40\n",
      "50000/50000 [==============================] - 9s 173us/step - loss: 0.4143 - acc: 0.8547 - val_loss: 0.5698 - val_acc: 0.8097\n",
      "Epoch 19/40\n",
      "50000/50000 [==============================] - 9s 174us/step - loss: 0.4001 - acc: 0.8570 - val_loss: 0.5619 - val_acc: 0.8111\n",
      "Epoch 20/40\n",
      "50000/50000 [==============================] - 9s 174us/step - loss: 0.3900 - acc: 0.8619 - val_loss: 0.5480 - val_acc: 0.8162\n",
      "Epoch 21/40\n",
      "50000/50000 [==============================] - 9s 173us/step - loss: 0.3804 - acc: 0.8653 - val_loss: 0.5820 - val_acc: 0.8077\n",
      "Epoch 22/40\n",
      "50000/50000 [==============================] - 9s 174us/step - loss: 0.3651 - acc: 0.8712 - val_loss: 0.5587 - val_acc: 0.8179\n",
      "Epoch 23/40\n",
      "50000/50000 [==============================] - 9s 174us/step - loss: 0.3572 - acc: 0.8732 - val_loss: 0.5494 - val_acc: 0.8192\n",
      "Epoch 24/40\n",
      "50000/50000 [==============================] - 9s 174us/step - loss: 0.3430 - acc: 0.8787 - val_loss: 0.5733 - val_acc: 0.8176\n",
      "Epoch 25/40\n",
      "50000/50000 [==============================] - 9s 174us/step - loss: 0.3328 - acc: 0.8826 - val_loss: 0.5457 - val_acc: 0.8210\n",
      "Epoch 26/40\n",
      "50000/50000 [==============================] - 9s 173us/step - loss: 0.3242 - acc: 0.8855 - val_loss: 0.5527 - val_acc: 0.8221\n",
      "Epoch 27/40\n",
      "50000/50000 [==============================] - 9s 175us/step - loss: 0.3164 - acc: 0.8873 - val_loss: 0.5470 - val_acc: 0.8219\n",
      "Epoch 28/40\n",
      "50000/50000 [==============================] - 9s 175us/step - loss: 0.3099 - acc: 0.8881 - val_loss: 0.5575 - val_acc: 0.8202\n",
      "Epoch 29/40\n",
      "50000/50000 [==============================] - 9s 173us/step - loss: 0.3067 - acc: 0.8903 - val_loss: 0.5502 - val_acc: 0.8248\n",
      "Epoch 30/40\n",
      "50000/50000 [==============================] - 9s 175us/step - loss: 0.2952 - acc: 0.8950 - val_loss: 0.5515 - val_acc: 0.8246\n",
      "Epoch 31/40\n",
      "50000/50000 [==============================] - 9s 173us/step - loss: 0.2906 - acc: 0.8958 - val_loss: 0.5426 - val_acc: 0.8249\n",
      "Epoch 32/40\n",
      "50000/50000 [==============================] - 9s 175us/step - loss: 0.2865 - acc: 0.8982 - val_loss: 0.5418 - val_acc: 0.8291\n",
      "Epoch 33/40\n",
      "50000/50000 [==============================] - 9s 176us/step - loss: 0.2767 - acc: 0.9019 - val_loss: 0.5731 - val_acc: 0.8210\n",
      "Epoch 34/40\n",
      "50000/50000 [==============================] - 9s 173us/step - loss: 0.2773 - acc: 0.9012 - val_loss: 0.5486 - val_acc: 0.8282\n",
      "Epoch 35/40\n",
      "50000/50000 [==============================] - 9s 174us/step - loss: 0.2701 - acc: 0.9037 - val_loss: 0.5423 - val_acc: 0.8262\n",
      "Epoch 36/40\n",
      "50000/50000 [==============================] - 9s 174us/step - loss: 0.2671 - acc: 0.9048 - val_loss: 0.5486 - val_acc: 0.8265\n",
      "Epoch 37/40\n",
      "50000/50000 [==============================] - 9s 174us/step - loss: 0.2586 - acc: 0.9073 - val_loss: 0.5554 - val_acc: 0.8258\n",
      "Epoch 38/40\n",
      "50000/50000 [==============================] - 9s 173us/step - loss: 0.2560 - acc: 0.9075 - val_loss: 0.5386 - val_acc: 0.8315\n",
      "Epoch 39/40\n",
      "50000/50000 [==============================] - 9s 173us/step - loss: 0.2521 - acc: 0.9096 - val_loss: 0.5506 - val_acc: 0.8282\n",
      "Epoch 40/40\n",
      "50000/50000 [==============================] - 9s 175us/step - loss: 0.2471 - acc: 0.9110 - val_loss: 0.5521 - val_acc: 0.8300\n",
      "[INFO] evaluating network...\n",
      "             precision    recall  f1-score   support\n",
      "\n",
      "   airplane       0.88      0.82      0.85      1000\n",
      " automobile       0.92      0.90      0.91      1000\n",
      "       bird       0.78      0.74      0.76      1000\n",
      "        cat       0.68      0.67      0.68      1000\n",
      "       deer       0.77      0.86      0.81      1000\n",
      "        dog       0.77      0.71      0.74      1000\n",
      "       frog       0.85      0.90      0.87      1000\n",
      "      horse       0.90      0.86      0.88      1000\n",
      "       ship       0.89      0.92      0.91      1000\n",
      "      truck       0.86      0.92      0.89      1000\n",
      "\n",
      "avg / total       0.83      0.83      0.83     10000\n",
      "\n"
     ]
    },
    {
     "data": {
      "image/png": "[encoded data removed]",
      "text/plain": [
       "<Figure size 432x288 with 1 Axes>"
      ]
     },
     "metadata": {},
     "output_type": "display_data"
    }
   ],
   "source": [
    "if __name__ == \"__main__\":\n",
    "    (trainX, trainY), (testX, testY), labelNames = loadCifar()\n",
    "    train(trainX, trainY, testX, testY, labelNames=labelNames)"
   ]
  },
  {
   "cell_type": "markdown",
   "metadata": {},
   "source": [
    "### 实验二：去掉conv层的dropout"
   ]
  },
  {
   "cell_type": "code",
   "execution_count": 3,
   "metadata": {},
   "outputs": [],
   "source": [
    "class MiniVGGNet:\n",
    "    @staticmethod  # 静态方法: 无需实例化即可调用类中的方法\n",
    "    def build(width, height, depth, classes):\n",
    "        chanDim=-1\n",
    "        inputShape=(height, width, depth)\n",
    "        \n",
    "        if K.image_data_format == \"channel_first\":\n",
    "            inputShape = (depth, height, width)\n",
    "            chanDim=1\n",
    "        \n",
    "        model = Sequential()\n",
    "        model.add(Conv2D(32, (3, 3), padding='same',input_shape=inputShape))\n",
    "        model.add(Activation('relu'))\n",
    "        model.add(BatchNormalization(axis=chanDim))\n",
    "        model.add(Conv2D(32, (3, 3), padding='same'))\n",
    "        model.add(Activation('relu'))\n",
    "        model.add(BatchNormalization(axis=chanDim))\n",
    "        model.add(MaxPooling2D(strides=2))\n",
    "        \n",
    "        model.add(Conv2D(64, (3, 3), padding='same'))\n",
    "        model.add(Activation('relu'))\n",
    "        model.add(BatchNormalization())\n",
    "        model.add(Conv2D(64, (3, 3), padding='same'))\n",
    "        model.add(Activation('relu'))\n",
    "        model.add(BatchNormalization())\n",
    "        model.add(MaxPooling2D(strides=2))\n",
    "        \n",
    "        model.add(Flatten())\n",
    "        model.add(Dense(512))\n",
    "        model.add(Activation('relu'))\n",
    "        model.add(BatchNormalization())\n",
    "        model.add(Dropout(0.5))\n",
    "        model.add(Dense(classes))\n",
    "        model.add(Activation('softmax'))\n",
    "        \n",
    "        return model"
   ]
  },
  {
   "cell_type": "code",
   "execution_count": 7,
   "metadata": {},
   "outputs": [
    {
     "name": "stdout",
     "output_type": "stream",
     "text": [
      "[INFO] training network...\n",
      "WARNING:tensorflow:Variable *= will be deprecated. Use variable.assign_mul if you want assignment to the variable value or 'x = x * y' if you want a new python Tensor object.\n",
      "Train on 50000 samples, validate on 10000 samples\n",
      "Epoch 1/40\n",
      "50000/50000 [==============================] - 11s 219us/step - loss: 1.5749 - acc: 0.4751 - val_loss: 1.2201 - val_acc: 0.5772\n",
      "Epoch 2/40\n",
      "50000/50000 [==============================] - 9s 171us/step - loss: 1.0449 - acc: 0.6396 - val_loss: 0.8972 - val_acc: 0.6889\n",
      "Epoch 3/40\n",
      "50000/50000 [==============================] - 8s 170us/step - loss: 0.8392 - acc: 0.7086 - val_loss: 0.8243 - val_acc: 0.7097\n",
      "Epoch 4/40\n",
      "50000/50000 [==============================] - 9s 171us/step - loss: 0.7298 - acc: 0.7440 - val_loss: 0.7369 - val_acc: 0.7455\n",
      "Epoch 5/40\n",
      "50000/50000 [==============================] - 8s 170us/step - loss: 0.6294 - acc: 0.7786 - val_loss: 0.7370 - val_acc: 0.7471\n",
      "Epoch 6/40\n",
      "50000/50000 [==============================] - 9s 172us/step - loss: 0.5581 - acc: 0.8039 - val_loss: 0.6716 - val_acc: 0.7691\n",
      "Epoch 7/40\n",
      "50000/50000 [==============================] - 9s 172us/step - loss: 0.4852 - acc: 0.8290 - val_loss: 0.6666 - val_acc: 0.7756\n",
      "Epoch 8/40\n",
      "50000/50000 [==============================] - 8s 169us/step - loss: 0.4346 - acc: 0.8471 - val_loss: 0.6745 - val_acc: 0.7716\n",
      "Epoch 9/40\n",
      "50000/50000 [==============================] - 9s 171us/step - loss: 0.3756 - acc: 0.8665 - val_loss: 0.6464 - val_acc: 0.7867\n",
      "Epoch 10/40\n",
      "50000/50000 [==============================] - 8s 170us/step - loss: 0.3339 - acc: 0.8814 - val_loss: 0.6472 - val_acc: 0.7889\n",
      "Epoch 11/40\n",
      "50000/50000 [==============================] - 9s 172us/step - loss: 0.2914 - acc: 0.8961 - val_loss: 0.6664 - val_acc: 0.7902\n",
      "Epoch 12/40\n",
      "50000/50000 [==============================] - 9s 170us/step - loss: 0.2554 - acc: 0.9093 - val_loss: 0.6787 - val_acc: 0.7867\n",
      "Epoch 13/40\n",
      "50000/50000 [==============================] - 8s 170us/step - loss: 0.2195 - acc: 0.9218 - val_loss: 0.7138 - val_acc: 0.7893\n",
      "Epoch 14/40\n",
      "50000/50000 [==============================] - 9s 172us/step - loss: 0.1974 - acc: 0.9300 - val_loss: 0.7118 - val_acc: 0.7922\n",
      "Epoch 15/40\n",
      "50000/50000 [==============================] - 8s 169us/step - loss: 0.1689 - acc: 0.9400 - val_loss: 0.7176 - val_acc: 0.7932\n",
      "Epoch 16/40\n",
      "50000/50000 [==============================] - 9s 170us/step - loss: 0.1505 - acc: 0.9478 - val_loss: 0.7368 - val_acc: 0.7877\n",
      "Epoch 17/40\n",
      "50000/50000 [==============================] - 9s 172us/step - loss: 0.1365 - acc: 0.9532 - val_loss: 0.7530 - val_acc: 0.7887\n",
      "Epoch 18/40\n",
      "50000/50000 [==============================] - 8s 168us/step - loss: 0.1252 - acc: 0.9564 - val_loss: 0.7500 - val_acc: 0.7935\n",
      "Epoch 19/40\n",
      "50000/50000 [==============================] - 9s 171us/step - loss: 0.1145 - acc: 0.9599 - val_loss: 0.7544 - val_acc: 0.7958\n",
      "Epoch 20/40\n",
      "50000/50000 [==============================] - 9s 172us/step - loss: 0.1039 - acc: 0.9645 - val_loss: 0.7722 - val_acc: 0.7934\n",
      "Epoch 21/40\n",
      "50000/50000 [==============================] - 9s 171us/step - loss: 0.0987 - acc: 0.9662 - val_loss: 0.7653 - val_acc: 0.7951\n",
      "Epoch 22/40\n",
      "50000/50000 [==============================] - 9s 171us/step - loss: 0.0851 - acc: 0.9712 - val_loss: 0.7793 - val_acc: 0.7954\n",
      "Epoch 23/40\n",
      "50000/50000 [==============================] - 8s 170us/step - loss: 0.0822 - acc: 0.9732 - val_loss: 0.7803 - val_acc: 0.7991\n",
      "Epoch 24/40\n",
      "50000/50000 [==============================] - 9s 172us/step - loss: 0.0737 - acc: 0.9753 - val_loss: 0.7988 - val_acc: 0.8005\n",
      "Epoch 25/40\n",
      "50000/50000 [==============================] - 8s 170us/step - loss: 0.0698 - acc: 0.9770 - val_loss: 0.7973 - val_acc: 0.7980\n",
      "Epoch 26/40\n",
      "50000/50000 [==============================] - 9s 170us/step - loss: 0.0628 - acc: 0.9801 - val_loss: 0.8234 - val_acc: 0.7960\n",
      "Epoch 27/40\n",
      "50000/50000 [==============================] - 9s 172us/step - loss: 0.0602 - acc: 0.9799 - val_loss: 0.8193 - val_acc: 0.7981\n",
      "Epoch 28/40\n",
      "50000/50000 [==============================] - 9s 170us/step - loss: 0.0561 - acc: 0.9817 - val_loss: 0.8312 - val_acc: 0.7992\n",
      "Epoch 29/40\n",
      "50000/50000 [==============================] - 9s 171us/step - loss: 0.0547 - acc: 0.9822 - val_loss: 0.8304 - val_acc: 0.7993\n",
      "Epoch 30/40\n",
      "50000/50000 [==============================] - 9s 172us/step - loss: 0.0485 - acc: 0.9847 - val_loss: 0.8381 - val_acc: 0.7962\n",
      "Epoch 31/40\n",
      "50000/50000 [==============================] - 9s 170us/step - loss: 0.0471 - acc: 0.9858 - val_loss: 0.8504 - val_acc: 0.7982\n",
      "Epoch 32/40\n",
      "50000/50000 [==============================] - 9s 171us/step - loss: 0.0454 - acc: 0.9849 - val_loss: 0.8552 - val_acc: 0.7978\n",
      "Epoch 33/40\n",
      "50000/50000 [==============================] - 9s 170us/step - loss: 0.0433 - acc: 0.9866 - val_loss: 0.8576 - val_acc: 0.7995\n",
      "Epoch 34/40\n",
      "50000/50000 [==============================] - 9s 172us/step - loss: 0.0415 - acc: 0.9872 - val_loss: 0.8771 - val_acc: 0.7989\n",
      "Epoch 35/40\n",
      "50000/50000 [==============================] - 9s 171us/step - loss: 0.0386 - acc: 0.9882 - val_loss: 0.8661 - val_acc: 0.8013\n",
      "Epoch 36/40\n",
      "50000/50000 [==============================] - 8s 170us/step - loss: 0.0386 - acc: 0.9879 - val_loss: 0.8658 - val_acc: 0.7992\n",
      "Epoch 37/40\n",
      "50000/50000 [==============================] - 9s 173us/step - loss: 0.0374 - acc: 0.9881 - val_loss: 0.8686 - val_acc: 0.7979\n",
      "Epoch 38/40\n",
      "50000/50000 [==============================] - 8s 170us/step - loss: 0.0334 - acc: 0.9895 - val_loss: 0.8768 - val_acc: 0.8023\n",
      "Epoch 39/40\n",
      "50000/50000 [==============================] - 9s 171us/step - loss: 0.0333 - acc: 0.9892 - val_loss: 0.8815 - val_acc: 0.8002\n",
      "Epoch 40/40\n",
      "50000/50000 [==============================] - 9s 172us/step - loss: 0.0330 - acc: 0.9897 - val_loss: 0.8933 - val_acc: 0.8006\n",
      "[INFO] evaluating network...\n",
      "             precision    recall  f1-score   support\n",
      "\n",
      "   airplane       0.80      0.84      0.82      1000\n",
      " automobile       0.92      0.89      0.90      1000\n",
      "       bird       0.74      0.68      0.71      1000\n",
      "        cat       0.65      0.62      0.64      1000\n",
      "       deer       0.75      0.76      0.75      1000\n",
      "        dog       0.71      0.73      0.72      1000\n",
      "       frog       0.84      0.87      0.85      1000\n",
      "      horse       0.83      0.84      0.84      1000\n",
      "       ship       0.88      0.89      0.89      1000\n",
      "      truck       0.87      0.89      0.88      1000\n",
      "\n",
      "avg / total       0.80      0.80      0.80     10000\n",
      "\n"
     ]
    },
    {
     "data": {
      "image/png": "[encoded data removed]",
      "text/plain": [
       "<Figure size 432x288 with 1 Axes>"
      ]
     },
     "metadata": {},
     "output_type": "display_data"
    }
   ],
   "source": [
    "if __name__ == \"__main__\":\n",
    "    (trainX, trainY), (testX, testY), labelNames = loadCifar()\n",
    "    train(trainX, trainY, testX, testY, labelNames=labelNames)"
   ]
  },
  {
   "cell_type": "markdown",
   "metadata": {},
   "source": [
    "### 实验三：去掉BN和Dropout"
   ]
  },
  {
   "cell_type": "code",
   "execution_count": 7,
   "metadata": {},
   "outputs": [],
   "source": [
    "class MiniVGGNet:\n",
    "    @staticmethod \n",
    "    def build(width, height, depth, classes):\n",
    "        chanDim=-1\n",
    "        inputShape=(height, width, depth)\n",
    "        \n",
    "        if K.image_data_format == \"channel_first\":\n",
    "            inputShape = (depth, height, width)\n",
    "            chanDim=1\n",
    "        \n",
    "        model = Sequential()\n",
    "        model.add(Conv2D(32, (3, 3), padding='same',input_shape=inputShape))\n",
    "        model.add(Activation('relu'))\n",
    "        #model.add(BatchNormalization(axis=chanDim))\n",
    "        model.add(Conv2D(32, (3, 3), padding='same'))\n",
    "        model.add(Activation('relu'))\n",
    "        #model.add(BatchNormalization(axis=chanDim))\n",
    "        model.add(MaxPooling2D(strides=2))\n",
    "        #model.add(Dropout(0.25))\n",
    "        \n",
    "        model.add(Conv2D(64, (3, 3), padding='same'))\n",
    "        model.add(Activation('relu'))\n",
    "        #model.add(BatchNormalization())\n",
    "        model.add(Conv2D(64, (3, 3), padding='same'))\n",
    "        model.add(Activation('relu'))\n",
    "        #model.add(BatchNormalization())\n",
    "        model.add(MaxPooling2D(strides=2))\n",
    "        #model.add(Dropout(0.25))\n",
    "        \n",
    "        model.add(Flatten())\n",
    "        model.add(Dense(512))\n",
    "        model.add(Activation('relu'))\n",
    "        #model.add(BatchNormalization())\n",
    "        #model.add(Dropout(0.5))\n",
    "        model.add(Dense(classes))\n",
    "        model.add(Activation('softmax'))\n",
    "        \n",
    "        return model"
   ]
  },
  {
   "cell_type": "code",
   "execution_count": 9,
   "metadata": {},
   "outputs": [],
   "source": [
    "def train1(trainX, trainY, testX, testY, lr=0.01, num_epochs=40, classes=10, labelNames=None):\n",
    "    optimizer = SGD(lr=lr, decay=0, momentum=0.9, nesterov=False)  #使用默认的decay方法\n",
    "    model = MiniVGGNet.build(32, 32, 3, classes)\n",
    "    parallel_model = multi_gpu_model(model, gpus=2)\n",
    "    model.compile(loss=\"categorical_crossentropy\", optimizer=optimizer, metrics=[\"accuracy\"])\n",
    "    print(\"[INFO] training network...\")\n",
    "    H = model.fit(trainX, trainY, 64, num_epochs, validation_data=(testX, testY), verbose=1)\n",
    "    print(\"[INFO] evaluating network...\")\n",
    "    predictions = model.predict(testX, batch_size=128)\n",
    "    print(classification_report(testY.argmax(axis=1), predictions.argmax(axis=1), target_names=labelNames))\n",
    "    plt.style.use(\"ggplot\")\n",
    "    plt.figure()\n",
    "    plt.plot(np.arange(num_epochs), H.history[\"loss\"], label=\"train_loss\")\n",
    "    plt.plot(np.arange(num_epochs), H.history[\"val_loss\"], label=\"val_loss\")\n",
    "    plt.plot(np.arange(num_epochs), H.history[\"acc\"], label=\"acc\")\n",
    "    plt.plot(np.arange(num_epochs), H.history[\"val_acc\"], label=\"val_acc\")\n",
    "    plt.title(\"Training Loss and Accuracy on CIFAR-10\")\n",
    "    plt.xlabel(\"Epoch #\")\n",
    "    plt.ylabel(\"Loss/Accuracy\")\n",
    "    plt.legend()\n",
    "    plt.savefig(\"training_curve.png\")\n",
    "    "
   ]
  },
  {
   "cell_type": "code",
   "execution_count": 10,
   "metadata": {},
   "outputs": [
    {
     "name": "stdout",
     "output_type": "stream",
     "text": [
      "[INFO] training network...\n",
      "Train on 50000 samples, validate on 10000 samples\n",
      "Epoch 1/40\n",
      "50000/50000 [==============================] - 7s 132us/step - loss: 1.6810 - acc: 0.3894 - val_loss: 1.3683 - val_acc: 0.5097\n",
      "Epoch 2/40\n",
      "50000/50000 [==============================] - 6s 127us/step - loss: 1.1739 - acc: 0.5823 - val_loss: 1.0545 - val_acc: 0.6285\n",
      "Epoch 3/40\n",
      "50000/50000 [==============================] - 7s 132us/step - loss: 0.9056 - acc: 0.6823 - val_loss: 0.9273 - val_acc: 0.6760\n",
      "Epoch 4/40\n",
      "50000/50000 [==============================] - 7s 132us/step - loss: 0.7089 - acc: 0.7541 - val_loss: 0.8974 - val_acc: 0.6976\n",
      "Epoch 5/40\n",
      "50000/50000 [==============================] - 7s 132us/step - loss: 0.5376 - acc: 0.8125 - val_loss: 0.8439 - val_acc: 0.7201\n",
      "Epoch 6/40\n",
      "50000/50000 [==============================] - 7s 132us/step - loss: 0.3658 - acc: 0.8714 - val_loss: 0.9427 - val_acc: 0.7050\n",
      "Epoch 7/40\n",
      "50000/50000 [==============================] - 7s 131us/step - loss: 0.2418 - acc: 0.9156 - val_loss: 1.0889 - val_acc: 0.7072\n",
      "Epoch 8/40\n",
      "50000/50000 [==============================] - 7s 132us/step - loss: 0.1710 - acc: 0.9410 - val_loss: 1.2312 - val_acc: 0.7138\n",
      "Epoch 9/40\n",
      "50000/50000 [==============================] - 7s 132us/step - loss: 0.1242 - acc: 0.9569 - val_loss: 1.3873 - val_acc: 0.7197\n",
      "Epoch 10/40\n",
      "50000/50000 [==============================] - 7s 132us/step - loss: 0.1025 - acc: 0.9648 - val_loss: 1.4752 - val_acc: 0.7112\n",
      "Epoch 11/40\n",
      "50000/50000 [==============================] - 7s 132us/step - loss: 0.0811 - acc: 0.9729 - val_loss: 1.4467 - val_acc: 0.7092\n",
      "Epoch 12/40\n",
      "50000/50000 [==============================] - 7s 132us/step - loss: 0.0712 - acc: 0.9755 - val_loss: 1.7110 - val_acc: 0.7093\n",
      "Epoch 13/40\n",
      "50000/50000 [==============================] - 7s 133us/step - loss: 0.0570 - acc: 0.9812 - val_loss: 1.7113 - val_acc: 0.7241\n",
      "Epoch 14/40\n",
      "50000/50000 [==============================] - 7s 133us/step - loss: 0.0472 - acc: 0.9846 - val_loss: 1.7724 - val_acc: 0.7129\n",
      "Epoch 15/40\n",
      "50000/50000 [==============================] - 7s 133us/step - loss: 0.0580 - acc: 0.9815 - val_loss: 1.7752 - val_acc: 0.7135\n",
      "Epoch 16/40\n",
      "50000/50000 [==============================] - 7s 131us/step - loss: 0.0466 - acc: 0.9851 - val_loss: 1.7863 - val_acc: 0.7258\n",
      "Epoch 17/40\n",
      "50000/50000 [==============================] - 7s 132us/step - loss: 0.0426 - acc: 0.9858 - val_loss: 1.7631 - val_acc: 0.7202\n",
      "Epoch 18/40\n",
      "50000/50000 [==============================] - 7s 132us/step - loss: 0.0327 - acc: 0.9898 - val_loss: 1.8108 - val_acc: 0.7206\n",
      "Epoch 19/40\n",
      "50000/50000 [==============================] - 7s 132us/step - loss: 0.0358 - acc: 0.9886 - val_loss: 1.9109 - val_acc: 0.7245\n",
      "Epoch 20/40\n",
      "50000/50000 [==============================] - 7s 131us/step - loss: 0.0372 - acc: 0.9882 - val_loss: 1.8797 - val_acc: 0.7246\n",
      "Epoch 21/40\n",
      "50000/50000 [==============================] - 7s 132us/step - loss: 0.0404 - acc: 0.9863 - val_loss: 1.9873 - val_acc: 0.7195\n",
      "Epoch 22/40\n",
      "50000/50000 [==============================] - 7s 132us/step - loss: 0.0341 - acc: 0.9890 - val_loss: 2.0178 - val_acc: 0.7194\n",
      "Epoch 23/40\n",
      "50000/50000 [==============================] - 7s 132us/step - loss: 0.0284 - acc: 0.9911 - val_loss: 1.9426 - val_acc: 0.7202\n",
      "Epoch 24/40\n",
      "50000/50000 [==============================] - 7s 132us/step - loss: 0.0282 - acc: 0.9911 - val_loss: 2.1170 - val_acc: 0.7107\n",
      "Epoch 25/40\n",
      "50000/50000 [==============================] - 7s 132us/step - loss: 0.0363 - acc: 0.9887 - val_loss: 1.9085 - val_acc: 0.7211\n",
      "Epoch 26/40\n",
      "50000/50000 [==============================] - 7s 132us/step - loss: 0.0235 - acc: 0.9923 - val_loss: 2.2308 - val_acc: 0.7074\n",
      "Epoch 27/40\n",
      "50000/50000 [==============================] - 7s 133us/step - loss: 0.0378 - acc: 0.9882 - val_loss: 1.9611 - val_acc: 0.7130\n",
      "Epoch 28/40\n",
      "50000/50000 [==============================] - 7s 132us/step - loss: 0.0271 - acc: 0.9913 - val_loss: 1.9643 - val_acc: 0.7228\n",
      "Epoch 29/40\n",
      "50000/50000 [==============================] - 7s 132us/step - loss: 0.0191 - acc: 0.9934 - val_loss: 2.0014 - val_acc: 0.7189\n",
      "Epoch 30/40\n",
      "50000/50000 [==============================] - 7s 132us/step - loss: 0.0236 - acc: 0.9924 - val_loss: 2.1066 - val_acc: 0.7175\n",
      "Epoch 31/40\n",
      "50000/50000 [==============================] - 7s 132us/step - loss: 0.0154 - acc: 0.9954 - val_loss: 2.2074 - val_acc: 0.7176\n",
      "Epoch 32/40\n",
      "50000/50000 [==============================] - 7s 132us/step - loss: 0.0343 - acc: 0.9887 - val_loss: 2.1030 - val_acc: 0.7159\n",
      "Epoch 33/40\n",
      "50000/50000 [==============================] - 7s 133us/step - loss: 0.0254 - acc: 0.9921 - val_loss: 2.3758 - val_acc: 0.7092\n",
      "Epoch 34/40\n",
      "50000/50000 [==============================] - 7s 132us/step - loss: 0.0361 - acc: 0.9896 - val_loss: 2.1502 - val_acc: 0.7144\n",
      "Epoch 35/40\n",
      "50000/50000 [==============================] - 7s 133us/step - loss: 0.0274 - acc: 0.9916 - val_loss: 2.1589 - val_acc: 0.7094\n",
      "Epoch 36/40\n",
      "50000/50000 [==============================] - 7s 133us/step - loss: 0.0153 - acc: 0.9954 - val_loss: 2.1607 - val_acc: 0.7236\n",
      "Epoch 37/40\n",
      "50000/50000 [==============================] - 7s 133us/step - loss: 0.0153 - acc: 0.9953 - val_loss: 2.2325 - val_acc: 0.7228\n",
      "Epoch 38/40\n",
      "50000/50000 [==============================] - 7s 132us/step - loss: 0.0304 - acc: 0.9908 - val_loss: 2.2457 - val_acc: 0.7243\n",
      "Epoch 39/40\n",
      "50000/50000 [==============================] - 7s 132us/step - loss: 0.0285 - acc: 0.9913 - val_loss: 2.2292 - val_acc: 0.7246\n",
      "Epoch 40/40\n",
      "50000/50000 [==============================] - 7s 132us/step - loss: 0.0179 - acc: 0.9946 - val_loss: 2.2490 - val_acc: 0.7237\n",
      "[INFO] evaluating network...\n",
      "             precision    recall  f1-score   support\n",
      "\n",
      "   airplane       0.79      0.77      0.78      1000\n",
      " automobile       0.87      0.81      0.84      1000\n",
      "       bird       0.68      0.55      0.61      1000\n",
      "        cat       0.51      0.54      0.52      1000\n",
      "       deer       0.65      0.71      0.68      1000\n",
      "        dog       0.62      0.61      0.61      1000\n",
      "       frog       0.69      0.83      0.76      1000\n",
      "      horse       0.79      0.77      0.78      1000\n",
      "       ship       0.85      0.84      0.85      1000\n",
      "      truck       0.80      0.81      0.81      1000\n",
      "\n",
      "avg / total       0.73      0.72      0.72     10000\n",
      "\n"
     ]
    },
    {
     "data": {
      "image/png": "[encoded data removed]",
      "text/plain": [
       "<Figure size 432x288 with 1 Axes>"
      ]
     },
     "metadata": {},
     "output_type": "display_data"
    }
   ],
   "source": [
    "if __name__ == \"__main__\":\n",
    "    (trainX, trainY), (testX, testY), labelNames = loadCifar()\n",
    "    train1(trainX, trainY, testX, testY, labelNames=labelNames)"
   ]
  },
  {
   "cell_type": "markdown",
   "metadata": {},
   "source": [
    "### 实验四：将FC换成GlobalAveragePooling"
   ]
  },
  {
   "cell_type": "code",
   "execution_count": 1,
   "metadata": {},
   "outputs": [
    {
     "name": "stderr",
     "output_type": "stream",
     "text": [
      "Using TensorFlow backend.\n"
     ]
    }
   ],
   "source": [
    "from models import MiniVGGNet\n",
    "from keras.models import Model\n",
    "from keras.layers import Input"
   ]
  },
  {
   "cell_type": "markdown",
   "metadata": {},
   "source": [
    "#### 注意：   \n",
    "#### You can't use model.layers.pop() to remove the last layer in the model. In tf.keras, model.layers will return a shallow copy version of the layers list, so actually you don't remove that layer, just remove the layer in the return value.\n",
    "\n",
    "#### 参考：https://github.com/tensorflow/tensorflow/issues/22479  \n",
    "#### https://github.com/keras-team/keras/issues/8772  \n",
    "#### Remove and Add Layers in keras:  https://stackoverflow.com/questions/41668813/how-to-add-and-remove-new-layers-in-keras-after-loading-weights"
   ]
  },
  {
   "cell_type": "code",
   "execution_count": 14,
   "metadata": {},
   "outputs": [],
   "source": [
    "def pop_layer(model):\n",
    "    if not model.outputs:\n",
    "        raise Exception('Sequential model cannot be popped: model is empty.')\n",
    "\n",
    "    model.layers.pop()\n",
    "    if not model.layers:\n",
    "        model.outputs = []\n",
    "        model.inbound_nodes = []\n",
    "        model.outbound_nodes = []\n",
    "    else:\n",
    "        model.layers[-1].outbound_nodes = []\n",
    "        model.outputs = [model.layers[-1].output]\n",
    "    model.built = False\n",
    "\n",
    "def build_fcn_model(lr=0.01, nesterov=True):\n",
    "    net = MiniVGGNet.build(32, 32, 3, 10)\n",
    "    for _ in range(7):\n",
    "        pop_layer(net)\n",
    "    net.add(AveragePooling2D((8,8)))\n",
    "    net.add(Dense(10))\n",
    "    net.add(Activation('softmax'))\n",
    "\n",
    "    optimizer = SGD(lr=lr, momentum=0.9, decay=0.01/80, nesterov=nesterov)\n",
    "    net.compile(optimizer=optimizer, loss=\"categorical_crossentropy\", metrics=[\"accuracy\"])\n",
    "    return net"
   ]
  },
  {
   "cell_type": "code",
   "execution_count": 15,
   "metadata": {},
   "outputs": [],
   "source": [
    "net = build_fcn_model()"
   ]
  },
  {
   "cell_type": "code",
   "execution_count": 9,
   "metadata": {},
   "outputs": [],
   "source": [
    "net = MiniVGGNet.build(32, 32, 3, 10)"
   ]
  },
  {
   "cell_type": "code",
   "execution_count": 10,
   "metadata": {},
   "outputs": [],
   "source": [
    "for _ in range(7):\n",
    "    pop_layer(net)\n",
    "net.add(AveragePooling2D((8,8)))\n",
    "net.add(Dense(10))\n",
    "net.add(Activation('softmax'))"
   ]
  },
  {
   "cell_type": "code",
   "execution_count": 13,
   "metadata": {},
   "outputs": [],
   "source": [
    "optimizer = SGD(lr=0.01, momentum=0.9, decay=0.01/80, nesterov=True)\n",
    "net.compile(optimizer=optimizer, loss=\"categorical_crossentropy\", metrics=[\"accuracy\"])"
   ]
  },
  {
   "cell_type": "code",
   "execution_count": 11,
   "metadata": {
    "collapsed": true
   },
   "outputs": [
    {
     "name": "stdout",
     "output_type": "stream",
     "text": [
      "_________________________________________________________________\n",
      "Layer (type)                 Output Shape              Param #   \n",
      "=================================================================\n",
      "conv2d_5 (Conv2D)            (None, 32, 32, 32)        896       \n",
      "_________________________________________________________________\n",
      "activation_7 (Activation)    (None, 32, 32, 32)        0         \n",
      "_________________________________________________________________\n",
      "batch_normalization_6 (Batch (None, 32, 32, 32)        128       \n",
      "_________________________________________________________________\n",
      "conv2d_6 (Conv2D)            (None, 32, 32, 32)        9248      \n",
      "_________________________________________________________________\n",
      "activation_8 (Activation)    (None, 32, 32, 32)        0         \n",
      "_________________________________________________________________\n",
      "batch_normalization_7 (Batch (None, 32, 32, 32)        128       \n",
      "_________________________________________________________________\n",
      "max_pooling2d_3 (MaxPooling2 (None, 16, 16, 32)        0         \n",
      "_________________________________________________________________\n",
      "dropout_4 (Dropout)          (None, 16, 16, 32)        0         \n",
      "_________________________________________________________________\n",
      "conv2d_7 (Conv2D)            (None, 16, 16, 64)        18496     \n",
      "_________________________________________________________________\n",
      "activation_9 (Activation)    (None, 16, 16, 64)        0         \n",
      "_________________________________________________________________\n",
      "batch_normalization_8 (Batch (None, 16, 16, 64)        256       \n",
      "_________________________________________________________________\n",
      "conv2d_8 (Conv2D)            (None, 16, 16, 64)        36928     \n",
      "_________________________________________________________________\n",
      "activation_10 (Activation)   (None, 16, 16, 64)        0         \n",
      "_________________________________________________________________\n",
      "batch_normalization_9 (Batch (None, 16, 16, 64)        256       \n",
      "_________________________________________________________________\n",
      "max_pooling2d_4 (MaxPooling2 (None, 8, 8, 64)          0         \n",
      "_________________________________________________________________\n",
      "dropout_5 (Dropout)          (None, 8, 8, 64)          0         \n",
      "_________________________________________________________________\n",
      "average_pooling2d_1 (Average (None, 1, 1, 64)          0         \n",
      "_________________________________________________________________\n",
      "dense_5 (Dense)              (None, 1, 1, 10)          650       \n",
      "_________________________________________________________________\n",
      "activation_13 (Activation)   (None, 1, 1, 10)          0         \n",
      "=================================================================\n",
      "Total params: 66,986\n",
      "Trainable params: 66,602\n",
      "Non-trainable params: 384\n",
      "_________________________________________________________________\n"
     ]
    }
   ],
   "source": [
    "net.summary()"
   ]
  },
  {
   "cell_type": "code",
   "execution_count": null,
   "metadata": {},
   "outputs": [],
   "source": [
    "def build_fcn_model(lr=0.01, nesterov=True)\n",
    "    net = MiniVGGNet.build(32, 32, 3, 10)\n",
    "    for _ in range(7):\n",
    "        pop_layer(net)\n",
    "    net.add(AveragePooling2D((8,8)))\n",
    "    net.add(Dense(10))\n",
    "    net.add(Activation('softmax'))\n",
    "\n",
    "    optimizer = SGD(lr=lr, momentum=0.9, decay=0.01/80, nesterov=nesterov)\n",
    "    net.compile(optimizer=optimizer, loss=\"categorical_crossentropy\", metrics=[\"accuracy\"])"
   ]
  },
  {
   "cell_type": "code",
   "execution_count": null,
   "metadata": {},
   "outputs": [],
   "source": [
    "def train(model, trainX, trainY, testX, testY, lr=0.01, num_epochs=40, classes=10, labelNames=None):\n",
    "    parallel_model = multi_gpu_model(model, gpus=2)\n",
    "    model.compile(loss=\"categorical_crossentropy\", optimizer=optimizer, metrics=[\"accuracy\"])\n",
    "    print(\"[INFO] training network...\")\n",
    "    H = model.fit(trainX, trainY, 64, num_epochs, validation_data=(testX, testY), verbose=1)\n",
    "    print(\"[INFO] evaluating network...\")\n",
    "    predictions = model.predict(testX, batch_size=128)\n",
    "    print(classification_report(testY.argmax(axis=1), predictions.argmax(axis=1), target_names=labelNames))\n",
    "    plt.style.use(\"ggplot\")\n",
    "    plt.figure()\n",
    "    plt.plot(np.arange(num_epochs), H.history[\"loss\"], label=\"train_loss\")\n",
    "    plt.plot(np.arange(num_epochs), H.history[\"val_loss\"], label=\"val_loss\")\n",
    "    plt.plot(np.arange(num_epochs), H.history[\"acc\"], label=\"acc\")\n",
    "    plt.plot(np.arange(num_epochs), H.history[\"val_acc\"], label=\"val_acc\")\n",
    "    plt.title(\"Training Loss and Accuracy on CIFAR-10\")\n",
    "    plt.xlabel(\"Epoch #\")\n",
    "    plt.ylabel(\"Loss/Accuracy\")\n",
    "    plt.legend()\n",
    "    plt.savefig(\"training_curve.png\")\n",
    "\n"
   ]
  },
  {
   "cell_type": "code",
   "execution_count": 27,
   "metadata": {},
   "outputs": [
    {
     "data": {
      "text/plain": [
       "<tf.Tensor 'dropout_11/cond/Merge:0' shape=(?, 8, 8, 64) dtype=float32>"
      ]
     },
     "execution_count": 27,
     "metadata": {},
     "output_type": "execute_result"
    }
   ],
   "source": [
    "net.layers[-8].output"
   ]
  },
  {
   "cell_type": "code",
   "execution_count": 79,
   "metadata": {},
   "outputs": [
    {
     "data": {
      "text/plain": [
       "TensorShape([Dimension(None), Dimension(10)])"
      ]
     },
     "execution_count": 79,
     "metadata": {},
     "output_type": "execute_result"
    }
   ],
   "source": [
    "in_img = Input(shape=(32,32,3))\n",
    "x = AveragePooling2D((8,8))(net.layers[-8].output)\n",
    "x = Flatten()(x)\n",
    "x = Dense(10)(x)\n",
    "x = Activation('softmax')(x)\n",
    "final_model = Model(inputs=in_img, outputs=[x]) ##报错..可能是Sequential和Model不能混用"
   ]
  },
  {
   "cell_type": "code",
   "execution_count": 50,
   "metadata": {
    "collapsed": true
   },
   "outputs": [
    {
     "name": "stdout",
     "output_type": "stream",
     "text": [
      "_________________________________________________________________\n",
      "Layer (type)                 Output Shape              Param #   \n",
      "=================================================================\n",
      "input_7 (InputLayer)         (None, 32, 32, 3)         0         \n",
      "_________________________________________________________________\n",
      "model_5 (Model)              (None, 8, 8, 64)          66336     \n",
      "_________________________________________________________________\n",
      "average_pooling2d_9 (Average (None, 1, 1, 64)          0         \n",
      "_________________________________________________________________\n",
      "flatten_12 (Flatten)         (None, 64)                0         \n",
      "_________________________________________________________________\n",
      "dense_15 (Dense)             (None, 10)                650       \n",
      "_________________________________________________________________\n",
      "activation_35 (Activation)   (None, 10)                0         \n",
      "=================================================================\n",
      "Total params: 66,986\n",
      "Trainable params: 66,602\n",
      "Non-trainable params: 384\n",
      "_________________________________________________________________\n"
     ]
    }
   ],
   "source": [
    "final_model.summary()"
   ]
  },
  {
   "cell_type": "code",
   "execution_count": null,
   "metadata": {},
   "outputs": [],
   "source": [
    "# model.add(AveragePooling2D(pool_size=(8, 8)))\n",
    "# model.add(Flatten())\n",
    "# model.add(Dense(10))\n",
    "# model.add(Activation('softmax'))"
   ]
  },
  {
   "cell_type": "raw",
   "metadata": {},
   "source": [
    "# model = Sequential()\n",
    "# model.add(net.layers[0], input_shape=(32,32,3))\n",
    "# for layer in net.layers[1:]:\n",
    "#     model.add(layer)\n",
    "# model.add(AveragePooling2D(pool_size=(8, 8)))\n",
    "# model.add(Flatten())\n",
    "# model.add(Dense(10))\n",
    "# model.add(Activation('softmax'))"
   ]
  },
  {
   "cell_type": "code",
   "execution_count": 33,
   "metadata": {},
   "outputs": [
    {
     "name": "stdout",
     "output_type": "stream",
     "text": [
      "_________________________________________________________________\n",
      "Layer (type)                 Output Shape              Param #   \n",
      "=================================================================\n",
      "conv2d_13_input (InputLayer) (None, 32, 32, 3)         0         \n",
      "_________________________________________________________________\n",
      "conv2d_13 (Conv2D)           (None, 32, 32, 32)        896       \n",
      "_________________________________________________________________\n",
      "activation_19 (Activation)   (None, 32, 32, 32)        0         \n",
      "_________________________________________________________________\n",
      "batch_normalization_16 (Batc (None, 32, 32, 32)        128       \n",
      "_________________________________________________________________\n",
      "conv2d_14 (Conv2D)           (None, 32, 32, 32)        9248      \n",
      "_________________________________________________________________\n",
      "activation_20 (Activation)   (None, 32, 32, 32)        0         \n",
      "_________________________________________________________________\n",
      "batch_normalization_17 (Batc (None, 32, 32, 32)        128       \n",
      "_________________________________________________________________\n",
      "max_pooling2d_7 (MaxPooling2 (None, 16, 16, 32)        0         \n",
      "_________________________________________________________________\n",
      "dropout_10 (Dropout)         (None, 16, 16, 32)        0         \n",
      "_________________________________________________________________\n",
      "conv2d_15 (Conv2D)           (None, 16, 16, 64)        18496     \n",
      "_________________________________________________________________\n",
      "activation_21 (Activation)   (None, 16, 16, 64)        0         \n",
      "_________________________________________________________________\n",
      "batch_normalization_18 (Batc (None, 16, 16, 64)        256       \n",
      "_________________________________________________________________\n",
      "conv2d_16 (Conv2D)           (None, 16, 16, 64)        36928     \n",
      "_________________________________________________________________\n",
      "activation_22 (Activation)   (None, 16, 16, 64)        0         \n",
      "_________________________________________________________________\n",
      "batch_normalization_19 (Batc (None, 16, 16, 64)        256       \n",
      "_________________________________________________________________\n",
      "max_pooling2d_8 (MaxPooling2 (None, 8, 8, 64)          0         \n",
      "_________________________________________________________________\n",
      "dropout_11 (Dropout)         (None, 8, 8, 64)          0         \n",
      "=================================================================\n",
      "Total params: 66,336\n",
      "Trainable params: 65,952\n",
      "Non-trainable params: 384\n",
      "_________________________________________________________________\n"
     ]
    }
   ],
   "source": [
    "model.summary()"
   ]
  },
  {
   "cell_type": "code",
   "execution_count": 48,
   "metadata": {},
   "outputs": [],
   "source": [
    "class MiniVGGNet:\n",
    "    @staticmethod  # 静态方法: 无需实例化即可调用类中的方法\n",
    "    def build(width, height, depth, classes):\n",
    "        chanDim=-1\n",
    "        inputShape=(height, width, depth)\n",
    "        \n",
    "        if K.image_data_format == \"channel_first\":\n",
    "            inputShape = (depth, height, width)\n",
    "            chanDim=1\n",
    "        \n",
    "        model = Sequential()\n",
    "        model.add(Conv2D(32, (3, 3), padding='same',input_shape=inputShape))\n",
    "        model.add(Activation('relu'))\n",
    "        model.add(BatchNormalization(axis=chanDim))\n",
    "        model.add(Conv2D(32, (3, 3), padding='same'))\n",
    "        model.add(Activation('relu'))\n",
    "        model.add(BatchNormalization(axis=chanDim))\n",
    "        model.add(MaxPooling2D(strides=2))\n",
    "        model.add(Dropout(0.25))\n",
    "        \n",
    "        model.add(Conv2D(64, (3, 3), padding='same'))\n",
    "        model.add(Activation('relu'))\n",
    "        model.add(BatchNormalization())\n",
    "        model.add(Conv2D(64, (3, 3), padding='same'))\n",
    "        model.add(Activation('relu'))\n",
    "        model.add(BatchNormalization())\n",
    "        model.add(MaxPooling2D(strides=2))\n",
    "        model.add(Dropout(0.25))\n",
    "        \n",
    "        model.add(AveragePooling2D(pool_size=(8, 8)))\n",
    "        model.add(Flatten())\n",
    "        model.add(Dense(10))\n",
    "        model.add(Activation('softmax'))\n",
    "        return model"
   ]
  },
  {
   "cell_type": "code",
   "execution_count": 51,
   "metadata": {},
   "outputs": [],
   "source": [
    "net = MiniVGGNet.build(32,32,3,10)"
   ]
  },
  {
   "cell_type": "code",
   "execution_count": 52,
   "metadata": {},
   "outputs": [
    {
     "name": "stdout",
     "output_type": "stream",
     "text": [
      "_________________________________________________________________\n",
      "Layer (type)                 Output Shape              Param #   \n",
      "=================================================================\n",
      "conv2d_25 (Conv2D)           (None, 32, 32, 32)        896       \n",
      "_________________________________________________________________\n",
      "activation_36 (Activation)   (None, 32, 32, 32)        0         \n",
      "_________________________________________________________________\n",
      "batch_normalization_20 (Batc (None, 32, 32, 32)        128       \n",
      "_________________________________________________________________\n",
      "conv2d_26 (Conv2D)           (None, 32, 32, 32)        9248      \n",
      "_________________________________________________________________\n",
      "activation_37 (Activation)   (None, 32, 32, 32)        0         \n",
      "_________________________________________________________________\n",
      "batch_normalization_21 (Batc (None, 32, 32, 32)        128       \n",
      "_________________________________________________________________\n",
      "max_pooling2d_13 (MaxPooling (None, 16, 16, 32)        0         \n",
      "_________________________________________________________________\n",
      "dropout_12 (Dropout)         (None, 16, 16, 32)        0         \n",
      "_________________________________________________________________\n",
      "conv2d_27 (Conv2D)           (None, 16, 16, 64)        18496     \n",
      "_________________________________________________________________\n",
      "activation_38 (Activation)   (None, 16, 16, 64)        0         \n",
      "_________________________________________________________________\n",
      "batch_normalization_22 (Batc (None, 16, 16, 64)        256       \n",
      "_________________________________________________________________\n",
      "conv2d_28 (Conv2D)           (None, 16, 16, 64)        36928     \n",
      "_________________________________________________________________\n",
      "activation_39 (Activation)   (None, 16, 16, 64)        0         \n",
      "_________________________________________________________________\n",
      "batch_normalization_23 (Batc (None, 16, 16, 64)        256       \n",
      "_________________________________________________________________\n",
      "max_pooling2d_14 (MaxPooling (None, 8, 8, 64)          0         \n",
      "_________________________________________________________________\n",
      "dropout_13 (Dropout)         (None, 8, 8, 64)          0         \n",
      "_________________________________________________________________\n",
      "average_pooling2d_4 (Average (None, 1, 1, 64)          0         \n",
      "_________________________________________________________________\n",
      "flatten_7 (Flatten)          (None, 64)                0         \n",
      "_________________________________________________________________\n",
      "dense_12 (Dense)             (None, 10)                650       \n",
      "_________________________________________________________________\n",
      "activation_40 (Activation)   (None, 10)                0         \n",
      "=================================================================\n",
      "Total params: 66,986\n",
      "Trainable params: 66,602\n",
      "Non-trainable params: 384\n",
      "_________________________________________________________________\n"
     ]
    }
   ],
   "source": [
    "net.summary()"
   ]
  },
  {
   "cell_type": "code",
   "execution_count": null,
   "metadata": {},
   "outputs": [],
   "source": []
  }
 ],
 "metadata": {
  "kernelspec": {
   "display_name": "Python 3",
   "language": "python",
   "name": "python3"
  },
  "language_info": {
   "codemirror_mode": {
    "name": "ipython",
    "version": 3
   },
   "file_extension": ".py",
   "mimetype": "text/x-python",
   "name": "python",
   "nbconvert_exporter": "python",
   "pygments_lexer": "ipython3",
   "version": "3.5.2"
  }
 },
 "nbformat": 4,
 "nbformat_minor": 2
}
