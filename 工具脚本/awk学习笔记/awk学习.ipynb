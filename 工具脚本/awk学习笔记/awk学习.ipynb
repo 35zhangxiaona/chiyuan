{
 "cells": [
  {
   "cell_type": "markdown",
   "metadata": {},
   "source": [
    "### 概述：\n",
    "\n",
    "#### 该notebook学习awk相关语法。任务是通过使用awk，完成简单的字符串提取、处理，以及简单的计算并格式化输出。若涉及到较复杂的逻辑运算，可能不如编写Python脚本来的清晰"
   ]
  },
  {
   "cell_type": "markdown",
   "metadata": {},
   "source": [
    "### 语法：awk '{pattern + action}' {filename}"
   ]
  },
  {
   "cell_type": "markdown",
   "metadata": {},
   "source": [
    "### 一、基础"
   ]
  },
  {
   "cell_type": "markdown",
   "metadata": {},
   "source": [
    "* 关键点整理：\n",
    "\n",
    "①选取最后一个field：{print $NF}"
   ]
  },
  {
   "cell_type": "markdown",
   "metadata": {},
   "source": [
    "* 实例文本概览  \n",
    "\n",
    "注意观察文本的分隔符等一些可供使用的“pattern”"
   ]
  },
  {
   "cell_type": "code",
   "execution_count": 17,
   "metadata": {},
   "outputs": [
    {
     "name": "stdout",
     "output_type": "stream",
     "text": [
      "root:x:0:0:root:/root:/usr/bin/zsh\r\n",
      "daemon:x:1:1:daemon:/usr/sbin:/usr/sbin/nologin\r\n",
      "bin:x:2:2:bin:/bin:/usr/sbin/nologin\r\n",
      "sys:x:3:3:sys:/dev:/usr/sbin/nologin\r\n",
      "sync:x:4:65534:sync:/bin:/bin/sync\r\n"
     ]
    }
   ],
   "source": [
    "## 实例一：\n",
    "!cat /etc/passwd | head -n 5"
   ]
  },
  {
   "cell_type": "code",
   "execution_count": 4,
   "metadata": {},
   "outputs": [
    {
     "name": "stdout",
     "output_type": "stream",
     "text": [
      "[+]Epoch 323, learning rate: 1.9158050414237662e-38, train accuracy: 0.8211777777777778, train loss: 0.8870835304260254, valid accuracy: 0.7618, speed: 20.28913164138794\r\n",
      "Epoch 324, Iter 0, train acc 0.765625, train loss 0.6175122261047363\r\n",
      "Epoch 324, Iter 100, train acc 0.8285891089108911, train loss 0.43959489464759827\r\n",
      "Epoch 324, Iter 200, train acc 0.8249378109452736, train loss 0.4976428747177124\r\n",
      "Epoch 324, Iter 300, train acc 0.8249584717607974, train loss 0.473130464553833\r\n",
      "Epoch 324, Iter 400, train acc 0.8233322942643392, train loss 0.6402977108955383\r\n",
      "Epoch 324, Iter 500, train acc 0.8235716067864272, train loss 0.7435027956962585\r\n",
      "Epoch 324, Iter 600, train acc 0.8241472545757071, train loss 0.4847423732280731\r\n",
      "Epoch 324, Iter 700, train acc 0.8236670827389444, train loss 0.4887233376502991\r\n",
      "[+]Epoch 324, learning rate: 1.1494830248542596e-38, train accuracy: 0.8237333333333333, train loss: 1.0850635766983032, valid accuracy: 0.7684, speed: 20.76629066467285\r\n"
     ]
    }
   ],
   "source": [
    "## 实例二：\n",
    "!cat cifar_train_resnet_11_18.log | tail -n 10"
   ]
  },
  {
   "cell_type": "markdown",
   "metadata": {},
   "source": [
    "* 入门实例：格式化输出某个文件按特定分隔符划分的某几个域"
   ]
  },
  {
   "cell_type": "code",
   "execution_count": 18,
   "metadata": {},
   "outputs": [
    {
     "name": "stdout",
     "output_type": "stream",
     "text": [
      "root\t/usr/bin/zsh\r\n",
      "daemon\t/usr/sbin/nologin\r\n",
      "bin\t/usr/sbin/nologin\r\n",
      "sys\t/usr/sbin/nologin\r\n",
      "sync\t/bin/sync\r\n"
     ]
    }
   ],
   "source": [
    "##实例一：获取用户名及其使用的shell类型\n",
    "!cat /etc/passwd | head -n 5 | awk -F ':' '{print $1\"\\t\"$7}' "
   ]
  },
  {
   "cell_type": "code",
   "execution_count": 20,
   "metadata": {},
   "outputs": [
    {
     "name": "stdout",
     "output_type": "stream",
     "text": [
      "[+]Epoch 323, learning rate: 1.9158050414237662e-38\ttrain accuracy: 0.8211777777777778\r\n",
      "Epoch 324, Iter 0\ttrain acc 0.765625\r\n",
      "Epoch 324, Iter 100\ttrain acc 0.8285891089108911\r\n",
      "Epoch 324, Iter 200\ttrain acc 0.8249378109452736\r\n",
      "Epoch 324, Iter 300\ttrain acc 0.8249584717607974\r\n",
      "Epoch 324, Iter 400\ttrain acc 0.8233322942643392\r\n",
      "Epoch 324, Iter 500\ttrain acc 0.8235716067864272\r\n",
      "Epoch 324, Iter 600\ttrain acc 0.8241472545757071\r\n",
      "Epoch 324, Iter 700\ttrain acc 0.8236670827389444\r\n",
      "[+]Epoch 324, learning rate: 1.1494830248542596e-38\ttrain accuracy: 0.8237333333333333\r\n"
     ]
    }
   ],
   "source": [
    "##实例二：获取每个Iter的ecoch，iter以及train acc： （暂时不管有些不匹配的行）\n",
    "!awk -F ', ' '{print $1\", \"$2\"\\t\"$3}' cifar_train_resnet_11_18.log | tail -10"
   ]
  },
  {
   "cell_type": "markdown",
   "metadata": {},
   "source": [
    "* 稍微完善一下：①在第一行加上各栏说明②在最后一行加一条信息"
   ]
  },
  {
   "cell_type": "code",
   "execution_count": 39,
   "metadata": {},
   "outputs": [
    {
     "name": "stdout",
     "output_type": "stream",
     "text": [
      "用户名\tshell类型\r\n",
      "root\t/usr/bin/zsh\r\n",
      "daemon\t/usr/sbin/nologin\r\n",
      "bin\t/usr/sbin/nologin\r\n",
      "sys\t/usr/sbin/nologin\r\n",
      "sync\t/bin/sync\r\n",
      "chi\tnosh\r\n"
     ]
    }
   ],
   "source": [
    "##实例一：\n",
    "! cat /etc/passwd | head -n 5| awk -F ':' 'BEGIN {print \"用户名\\tshell类型\"} {print $1\"\\t\"$7} END{print \"chi\\tnosh\"}'"
   ]
  },
  {
   "cell_type": "code",
   "execution_count": 52,
   "metadata": {},
   "outputs": [
    {
     "name": "stdout",
     "output_type": "stream",
     "text": [
      "epoch数\t\t验证准确率\r\n",
      "[+]Epoch 323\tvalid accuracy: 0.7618\r\n",
      "Epoch 324\t\r\n",
      "Epoch 324\t\r\n",
      "Epoch 324\t\r\n",
      "Epoch 324\t\r\n",
      "Epoch 324\t\r\n",
      "Epoch 324\t\r\n",
      "Epoch 324\t\r\n",
      "Epoch 324\t\r\n",
      "[+]Epoch 324\tvalid accuracy: 0.7684\r\n",
      "[+]Epoch 999\tvalid accuracy: 0.999\r\n"
     ]
    }
   ],
   "source": [
    "##实例二：我想打印出每个Epoch的valid accuracy，并在第一行加上标题，最后一行加一个条目\n",
    "!cat cifar_train_resnet_11_18.log | tail -10 | awk -F ', ' 'BEGIN {print \"epoch数\\t\\t验证准确率\"} {print$1\"\\t\"$5} END {print \"[+]Epoch 999\\tvalid accuracy: 0.999\"}'"
   ]
  },
  {
   "cell_type": "markdown",
   "metadata": {},
   "source": [
    "* 注意：上面的匹配已经可以取得不错的格式化输出效果了。不过还存在一些我们不需要的信息。下面就要用到{pattern}来筛选或者过滤匹配结果了"
   ]
  },
  {
   "cell_type": "code",
   "execution_count": 58,
   "metadata": {},
   "outputs": [
    {
     "name": "stdout",
     "output_type": "stream",
     "text": [
      "用户名\tshell类型\r\n",
      "root\t/usr/bin/zsh\r\n",
      "root\tnosh\r\n"
     ]
    }
   ],
   "source": [
    "## 实例一：只匹配root用户，再最后再加一行root的信息\n",
    "! cat /etc/passwd | head -n 5| awk -F ':' 'BEGIN {print \"用户名\\tshell类型\"} /root/{print $1\"\\t\"$7} END{print \"root\\tnosh\"}'"
   ]
  },
  {
   "cell_type": "code",
   "execution_count": 89,
   "metadata": {},
   "outputs": [
    {
     "name": "stdout",
     "output_type": "stream",
     "text": [
      "Epoch数\t\t验证集准确率\r\n",
      "[+]Epoch 1\tvalid accuracy: 0.3936\r\n",
      "[+]Epoch 2\tvalid accuracy: 0.5162\r\n",
      "[+]Epoch 3\tvalid accuracy: 0.4996\r\n",
      "[+]Epoch 4\tvalid accuracy: 0.5748\r\n"
     ]
    }
   ],
   "source": [
    "## 实例二：只匹配每个Epoch（即以[+]开头的）行：\n",
    "#cat cifar_train_resnet_11_18.log | head -n 5 | \n",
    "! awk -F ', '  'BEGIN {print \"Epoch数\\t\\t验证集准确率\"}  /^\\[+/{print $1\"\\t\"$4} ' cifar_train_resnet_11_18.log | head -n  5"
   ]
  },
  {
   "cell_type": "markdown",
   "metadata": {},
   "source": [
    "* 内置变量"
   ]
  },
  {
   "cell_type": "code",
   "execution_count": 103,
   "metadata": {},
   "outputs": [
    {
     "name": "stdout",
     "output_type": "stream",
     "text": [
      "daemon\t/usr/sbin/nologin\r\n",
      "bin\t/usr/sbin/nologin\r\n",
      "sys\t/usr/sbin/nologin\r\n",
      "sync\t/bin/sync\r\n",
      "games\t/usr/sbin/nologin\r\n",
      "man\t/usr/sbin/nologin\r\n",
      "lp\t/usr/sbin/nologin\r\n",
      "mail\t/usr/sbin/nologin\r\n"
     ]
    }
   ],
   "source": [
    "# 这里只举一个例子：打印出某个文件的特定行，使用变量NR。不过awk好像不支持负的索引\n",
    "!awk -F ':' '(NR>1 && NR<10) {print $1\"\\t\"$7}' /etc/passwd "
   ]
  },
  {
   "cell_type": "markdown",
   "metadata": {},
   "source": [
    "### 二、进阶"
   ]
  },
  {
   "cell_type": "markdown",
   "metadata": {},
   "source": [
    "* 自定义变量"
   ]
  },
  {
   "cell_type": "code",
   "execution_count": 181,
   "metadata": {
    "scrolled": true
   },
   "outputs": [
    {
     "name": "stdout",
     "output_type": "stream",
     "text": [
      "[start] user count is  0\r\n",
      "root\r\n",
      "daemon\r\n",
      "bin\r\n",
      "sys\r\n",
      "sync\r\n",
      "[end]user count is  5\r\n"
     ]
    }
   ],
   "source": [
    "##实例一：计算条目中涉及的用户数目\n",
    "!cat /etc/passwd | head -n 5 | awk -F ':' 'BEGIN {count=0;print \"[start] user count is \", count} {print $1;count++;} END{print \"[end]user count is \", count}'"
   ]
  },
  {
   "cell_type": "code",
   "execution_count": 182,
   "metadata": {},
   "outputs": [
    {
     "name": "stdout",
     "output_type": "stream",
     "text": [
      "speed: 21.64277172088623\r\n",
      "speed: 21.296162843704224\r\n",
      "speed: 22.01731514930725\r\n",
      "speed: 21.399176597595215\r\n",
      "speed: 20.90115714073181\r\n",
      "speed: 21.352874517440796\r\n",
      "speed: 21.54516363143921\r\n",
      "speed: 21.073846578598022\r\n",
      "speed: 21.558035612106323\r\n",
      "speed: 20.88133978843689\r\n"
     ]
    }
   ],
   "source": [
    "##实例二：计算每个Epoch的平均speed\n",
    "##这个例子涉及到多个知识点。首先提取speed相关信息。如果使用单一的field seperator进行分离，我们得到的是\n",
    "!awk -F ', ' '/speed/,/^\\[/{print $NF}' cifar_train_resnet_11_18.log | head -n 10"
   ]
  },
  {
   "cell_type": "markdown",
   "metadata": {},
   "source": [
    "___\n",
    " * 为了学习如何进一步将speed和数字分开，先学习一个例子  \n",
    " * 参考：  \n",
    "https://unix.stackexchange.com/questions/73784/remove-string-from-a-particular-field-using-awk-sed\n",
    "    \n",
    " \n",
    "假如我们有如下表格。现在需要获取的是几个\"gene\"相关的数据(共同数据如GTF那些不需要)，且最后一列只要ID的值的分析结果"
   ]
  },
  {
   "cell_type": "code",
   "execution_count": 129,
   "metadata": {},
   "outputs": [
    {
     "name": "stdout",
     "output_type": "stream",
     "text": [
      "chr1    GTF2GFF chromosome  1   249213345   .   .   .   ID=chr1;Name=chr1\r\n",
      "chr1    GTF2GFF gene    11874   14408   .   +   .   ID=DDX11L1;Note=unknown;Name=DDX11L1\r\n",
      "chr1    GTF2GFF exon    11874   12227   .   +   .   Parent=NR_046018_1\r\n",
      "chr1    GTF2GFF exon    12613   12721   .   +   .   Parent=NR_046018_1\r\n",
      "chr1    GTF2GFF exon    13221   14408   .   +   .   Parent=NR_046018_1\r\n",
      "chr1    GTF2GFF gene    14362   29370   .   -   .   ID=WASH7P;Note=unknown;Name=WASH7P\r\n",
      "chr1    GTF2GFF exon    14362   14829   .   -   .   Parent=NR_024540\r\n",
      "chr1    GTF2GFF exon    14970   15038   .   -   .   Parent=NR_024540\r\n",
      "chr1    GTF2GFF exon    15796   15947   .   -   .   Parent=NR_024540\r\n",
      "chr1    GTF2GFF exon    16607   16765   .   -   .   Parent=NR_024540\r\n",
      "chr1    GTF2GFF exon    16858   17055   .   -   .   Parent=NR_024540\r\n",
      "chr1    GTF2GFF exon    17233   17368   .   -   .   Parent=NR_024540\r\n",
      "chr1    GTF2GFF exon    17606   17742   .   -   .   Parent=NR_024540\r\n",
      "chr1    GTF2GFF exon    17915   18061   .   -   .   Parent=NR_024540\r\n",
      "chr1    GTF2GFF exon    18268   18366   .   -   .   Parent=NR_024540\r\n",
      "chr1    GTF2GFF exon    24738   24891   .   -   .   Parent=NR_024540\r\n",
      "chr1    GTF2GFF exon    29321   29370   .   -   .   Parent=NR_024540\r\n",
      "chr1    GTF2GFF gene    34611   36081   .   -   .   ID=FAM138A;Note=unknown;Name=FAM138A\r\n",
      "chr1    GTF2GFF exon    34611   35174   .   -   .   Parent=NR_026818\r\n",
      "chr1    GTF2GFF exon    35277   35481   .   -   .   Parent=NR_026818\r\n"
     ]
    }
   ],
   "source": [
    "!cat table_awk"
   ]
  },
  {
   "cell_type": "code",
   "execution_count": 132,
   "metadata": {},
   "outputs": [
    {
     "name": "stdout",
     "output_type": "stream",
     "text": [
      "chr1\t11874\t14408\t.\t+\tID=DDX11L1;Note=unknown;Name=DDX11L1\t\r\n",
      "chr1\t14362\t29370\t.\t-\tID=WASH7P;Note=unknown;Name=WASH7P\t\r\n",
      "chr1\t34611\t36081\t.\t-\tID=FAM138A;Note=unknown;Name=FAM138A\t\r\n"
     ]
    }
   ],
   "source": [
    "## 第一步：粗略提取。可见最后一个域需要进一步处理\n",
    "!awk '$3==\"gene\" {printf(\"%s\\t%s\\t%s\\t%s\\t%s\\t%s\\t\\n\",$1,$4,$5,$6,$7,$9)}' table_awk"
   ]
  },
  {
   "cell_type": "markdown",
   "metadata": {},
   "source": [
    "###### 方法一：修改field seperator。使用多个seperator\n",
    "* 特别注意：这里的seperators包含：① \" +\"代表一个或多个空格 ②\";\" ③\"=\" 。**多个seperator之间使用\"|\"分开**"
   ]
  },
  {
   "cell_type": "code",
   "execution_count": 150,
   "metadata": {},
   "outputs": [
    {
     "name": "stdout",
     "output_type": "stream",
     "text": [
      "chr1\t11874\t14408\tDDX11L1\t.\t+\t\r\n",
      "chr1\t14362\t29370\tWASH7P\t.\t-\t\r\n",
      "chr1\t34611\t36081\tFAM138A\t.\t-\t\r\n"
     ]
    }
   ],
   "source": [
    "!awk -F\" +|;|=\" '$3 == \"gene\" {printf(\"%s\\t%s\\t%s\\t%s\\t%s\\t%s\\t\\n\", $1, $4, $5, $10, $6, $7);}' table_awk"
   ]
  },
  {
   "cell_type": "markdown",
   "metadata": {},
   "source": [
    "* **方法一可以整理成更加美观的写法：**"
   ]
  },
  {
   "cell_type": "code",
   "execution_count": 168,
   "metadata": {},
   "outputs": [
    {
     "name": "stdout",
     "output_type": "stream",
     "text": [
      "chr1\t11874\t14408\t.\t+\tDDX11L1\r\n",
      "chr1\t14362\t29370\t.\t-\tWASH7P\r\n",
      "chr1\t34611\t36081\t.\t-\tFAM138A\r\n"
     ]
    }
   ],
   "source": [
    "!awk 'BEGIN {FS=\" +|;|=\";OFS=\"\\t\"} $3==\"gene\"{print $1, $4, $5, $6, $7, $10}' table_awk"
   ]
  },
  {
   "cell_type": "markdown",
   "metadata": {},
   "source": [
    "###### 方法二： 使用内置split + substr命令  \n",
    "* 参考：https://stackoverflow.com/questions/8009664/how-to-split-a-delimited-string-into-an-array-in-awk\n",
    "```\n",
    " awk '{split($0, a, \":\")}'\n",
    " #           ^^  ^  ^^^\n",
    " #            |  |   |\n",
    " #       string  |   delimiter\n",
    " #               |\n",
    " #               array to store the pieces\n",
    "```\n",
    "* substr: \n",
    "\n",
    "`substr($4,20) `    --->  表示是从第4个字段里的第20个字符开始，一直到设定的分隔符结束.  \n",
    "`substr($3,12,8)`  --->  表示是从第3个字段里的第12个字符开始，截取8个字符结束."
   ]
  },
  {
   "cell_type": "code",
   "execution_count": 153,
   "metadata": {},
   "outputs": [
    {
     "name": "stdout",
     "output_type": "stream",
     "text": [
      "chr1\tID=DDX11L1\tNote=unknown\r\n",
      "chr1\tID=WASH7P\tNote=unknown\r\n",
      "chr1\tID=FAM138A\tNote=unknown\r\n"
     ]
    }
   ],
   "source": [
    "!awk '$3==\"gene\"{split($9,a,\";\"); print $1\"\\t\"a[1]\"\\t\"a[2]}' table_awk"
   ]
  },
  {
   "cell_type": "code",
   "execution_count": 163,
   "metadata": {},
   "outputs": [
    {
     "name": "stdout",
     "output_type": "stream",
     "text": [
      "chr1\tDDX11L1\r\n",
      "chr1\tWASH7P\r\n",
      "chr1\tFAM138A\r\n"
     ]
    }
   ],
   "source": [
    "## 使用substr截取字符串\n",
    "!awk '$3==\"gene\"{split($9,a,\";\"); print $1\"\\t\"substr(a[1],4)}' table_awk"
   ]
  },
  {
   "cell_type": "code",
   "execution_count": 165,
   "metadata": {},
   "outputs": [
    {
     "name": "stdout",
     "output_type": "stream",
     "text": [
      "chr1\tDDX11L1\r\n",
      "chr1\tWASH7P\r\n",
      "chr1\tFAM138A\r\n"
     ]
    }
   ],
   "source": [
    "## 进阶：嵌套的split\n",
    "!awk '$3==\"gene\"{split($9,a,\";\");split(a[1],a,\"=\"); print $1\"\\t\"a[2]}' table_awk"
   ]
  },
  {
   "cell_type": "code",
   "execution_count": 137,
   "metadata": {},
   "outputs": [
    {
     "name": "stdout",
     "output_type": "stream",
     "text": [
      "chr1\t11874\t14408\tDDX11L1\t.\t+\t\r\n",
      "chr1\t14362\t29370\tWASH7P\t.\t-\t\r\n",
      "chr1\t34611\t36081\tFAM138A\t.\t-\t\r\n"
     ]
    }
   ],
   "source": []
  },
  {
   "cell_type": "markdown",
   "metadata": {},
   "source": [
    "* 最后的结果：  \n",
    "注意：print $1, $2...之间的逗号不能少。否则无法使用格式化的输出delimiter"
   ]
  },
  {
   "cell_type": "markdown",
   "metadata": {},
   "source": [
    "```shell\n",
    "!awk '\n",
    "BEGIN \n",
    "{\n",
    "    OFS=\"\\t\"\n",
    "} \n",
    "$3==\"gene\"{\n",
    "    split($9,a,\";\");split(a[1],a,\"=\");\n",
    "    print $1, $4, $5, $7, $8, a[2];\n",
    "} ' table_awk\n",
    "```"
   ]
  },
  {
   "cell_type": "code",
   "execution_count": 180,
   "metadata": {},
   "outputs": [
    {
     "name": "stdout",
     "output_type": "stream",
     "text": [
      "chr1\t11874\t14408\t+\t.\tDDX11L1\r\n",
      "chr1\t14362\t29370\t-\t.\tWASH7P\r\n",
      "chr1\t34611\t36081\t-\t.\tFAM138A\r\n"
     ]
    }
   ],
   "source": [
    "!awk 'BEGIN {OFS=\"\\t\"} $3==\"gene\"{split($9,a,\";\");split(a[1],a,\"=\");print $1, $4, $5, $7, $8, a[2]} ' table_awk"
   ]
  },
  {
   "cell_type": "markdown",
   "metadata": {},
   "source": [
    "### 回到我们的例子：  \n",
    "#### 任务一：通过所学语法将文本中每个Epoch的epoch数、loss、accuracy等指标打印出来，输出成表格的形式"
   ]
  },
  {
   "cell_type": "code",
   "execution_count": 226,
   "metadata": {},
   "outputs": [
    {
     "name": "stdout",
     "output_type": "stream",
     "text": [
      "cat: write error: Broken pipe\r\n",
      "epoch\ttrain_acc\t\ttrain_loss\t\tval_acc\t\r\n",
      "1\t0.3628222222222222\t4.639335632324219\t0.3936\r\n",
      "2\t0.46595555555555557\t1.3284592628479004\t0.5162\r\n",
      "3\t0.5665333333333333\t2.6452484130859375\t0.4996\r\n",
      "4\t0.6080888888888889\t1.0159202814102173\t0.5748\r\n",
      "5\t0.6294888888888889\t1.284842610359192\t0.601\r\n",
      "6\t0.6466888888888889\t1.352370023727417\t0.6408\r\n",
      "7\t0.6569555555555555\t1.2865233421325684\t0.6226\r\n",
      "8\t0.6634666666666666\t2.391160488128662\t0.662\r\n",
      "9\t0.6729333333333334\t0.5892316699028015\t0.6728\r\n",
      "10\t0.6738444444444445\t0.7795113921165466\t0.6526\r\n",
      "11\t0.7069555555555556\t2.228287696838379\t0.6648\r\n",
      "12\t0.7174444444444444\t1.1964997053146362\t0.667\r\n",
      "13\t0.717\t0.9960783123970032\t0.6844\r\n",
      "14\t0.7208444444444444\t1.2373504638671875\t0.7046\r\n",
      "15\t0.7255333333333334\t1.0979046821594238\t0.6758\r\n",
      "16\t0.7289333333333333\t0.545863926410675\t0.7172\r\n",
      "17\t0.7274444444444444\t0.1524706333875656\t0.7088\r\n",
      "18\t0.7312444444444445\t1.0484917163848877\t0.6896\r\n",
      "19\t0.7335333333333334\t1.3041762113571167\t0.7104\r\n",
      "20\t0.7350888888888889\t1.6251299381256104\t0.7044\r\n",
      "21\t0.7619777777777778\t0.9769330024719238\t0.737\r\n",
      "22\t0.7643777777777778\t1.2648650407791138\t0.7212\r\n"
     ]
    }
   ],
   "source": [
    "!cat cifar_train_resnet_11_18.log | head -n 200 | awk 'BEGIN {FS=\" +|, |: \";OFS=\"\\t\";print \"epoch\\ttrain_acc\\t\\ttrain_loss\\t\\tval_acc\\t\"} /^\\[+/{print $2, $5, $8, $(NF-2)}'"
   ]
  },
  {
   "attachments": {
    "image.png": {
     "image/png": "[encoded data removed]"
    }
   },
   "cell_type": "markdown",
   "metadata": {},
   "source": [
    "* 发现上面的打印结果有些地方不是特别美观。为了打印得更整齐，使用`clolum`。  \n",
    "参考：https://stackoverflow.com/questions/6262838/pretty-print-table-with-awk  \n",
    "![image.png](attachment:image.png)"
   ]
  },
  {
   "cell_type": "markdown",
   "metadata": {},
   "source": [
    "* 任务一最终结果"
   ]
  },
  {
   "cell_type": "markdown",
   "metadata": {},
   "source": [
    "```shell\n",
    "!cat cifar_train_resnet_11_18.log | head -n 200 | awk '\n",
    "BEGIN \n",
    "{\n",
    "    FS=\" +|, |: \";OFS=\"\\t\";print \"epoch\\ttrain_acc\\t\\ttrain_loss\\t\\tval_acc\\t\\n\"\n",
    "}\n",
    "/^\\[+/\n",
    "{\n",
    "    print $2, $5, $8, $(NF-2)\n",
    "}\n",
    "'| column -t\n",
    "```"
   ]
  },
  {
   "cell_type": "code",
   "execution_count": 239,
   "metadata": {},
   "outputs": [
    {
     "name": "stdout",
     "output_type": "stream",
     "text": [
      "cat: write error: Broken pipe\r\n",
      "epoch  train_acc            train_loss          val_acc\r\n",
      "1      0.3628222222222222   4.639335632324219   0.3936\r\n",
      "2      0.46595555555555557  1.3284592628479004  0.5162\r\n",
      "3      0.5665333333333333   2.6452484130859375  0.4996\r\n",
      "4      0.6080888888888889   1.0159202814102173  0.5748\r\n",
      "5      0.6294888888888889   1.284842610359192   0.601\r\n",
      "6      0.6466888888888889   1.352370023727417   0.6408\r\n",
      "7      0.6569555555555555   1.2865233421325684  0.6226\r\n",
      "8      0.6634666666666666   2.391160488128662   0.662\r\n",
      "9      0.6729333333333334   0.5892316699028015  0.6728\r\n",
      "10     0.6738444444444445   0.7795113921165466  0.6526\r\n",
      "11     0.7069555555555556   2.228287696838379   0.6648\r\n",
      "12     0.7174444444444444   1.1964997053146362  0.667\r\n",
      "13     0.717                0.9960783123970032  0.6844\r\n",
      "14     0.7208444444444444   1.2373504638671875  0.7046\r\n",
      "15     0.7255333333333334   1.0979046821594238  0.6758\r\n",
      "16     0.7289333333333333   0.545863926410675   0.7172\r\n",
      "17     0.7274444444444444   0.1524706333875656  0.7088\r\n",
      "18     0.7312444444444445   1.0484917163848877  0.6896\r\n",
      "19     0.7335333333333334   1.3041762113571167  0.7104\r\n",
      "20     0.7350888888888889   1.6251299381256104  0.7044\r\n",
      "21     0.7619777777777778   0.9769330024719238  0.737\r\n",
      "22     0.7643777777777778   1.2648650407791138  0.7212\r\n"
     ]
    }
   ],
   "source": [
    "!cat cifar_train_resnet_11_18.log | head -n 200 | awk 'BEGIN {FS=\" +|, |: \";OFS=\"\\t\";print \"epoch\\ttrain_acc\\t\\ttrain_loss\\t\\tval_acc\\t\\n\"} /^\\[+/{print $2, $5, $8, $(NF-2)}'| column -t"
   ]
  },
  {
   "cell_type": "markdown",
   "metadata": {},
   "source": [
    "#### 任务二：计算上表中后三列的平均值，并记录在表格下方  \n",
    "* 参考：https://stackoverflow.com/questions/19149731/use-awk-to-find-average-of-a-column"
   ]
  },
  {
   "cell_type": "markdown",
   "metadata": {},
   "source": [
    "```shell\n",
    "!cat cifar_train_resnet_11_18.log | head -n 200 | awk '\n",
    "BEGIN \n",
    "{\n",
    "    count=0;train_acc=0;val_acc=0;train_loss=0;\n",
    "    FS=\" +|, |: \";OFS=\"\\t\";\n",
    "    print \"epoch\\ttrain_acc\\t\\ttrain_loss\\t\\tval_acc\\t\\n\"\n",
    "}\n",
    "/^\\[+/\n",
    "{\n",
    "    ++count;train_acc+=$5;train_loss+=$8;val_acc+=$(NF-2);\n",
    "    print $2, $5, $8, $(NF-2)\n",
    "} \n",
    "END \n",
    "{ \n",
    "    print \"Average\", train_acc/count,train_loss/count,val_acc/count\n",
    "}\n",
    "' | column -t\n",
    "```"
   ]
  },
  {
   "cell_type": "code",
   "execution_count": 248,
   "metadata": {},
   "outputs": [
    {
     "name": "stdout",
     "output_type": "stream",
     "text": [
      "cat: write error: Broken pipe\r\n",
      "epoch    train_acc            train_loss          val_acc\r\n",
      "1        0.3628222222222222   4.639335632324219   0.3936\r\n",
      "2        0.46595555555555557  1.3284592628479004  0.5162\r\n",
      "3        0.5665333333333333   2.6452484130859375  0.4996\r\n",
      "4        0.6080888888888889   1.0159202814102173  0.5748\r\n",
      "5        0.6294888888888889   1.284842610359192   0.601\r\n",
      "6        0.6466888888888889   1.352370023727417   0.6408\r\n",
      "7        0.6569555555555555   1.2865233421325684  0.6226\r\n",
      "8        0.6634666666666666   2.391160488128662   0.662\r\n",
      "9        0.6729333333333334   0.5892316699028015  0.6728\r\n",
      "10       0.6738444444444445   0.7795113921165466  0.6526\r\n",
      "11       0.7069555555555556   2.228287696838379   0.6648\r\n",
      "12       0.7174444444444444   1.1964997053146362  0.667\r\n",
      "13       0.717                0.9960783123970032  0.6844\r\n",
      "14       0.7208444444444444   1.2373504638671875  0.7046\r\n",
      "15       0.7255333333333334   1.0979046821594238  0.6758\r\n",
      "16       0.7289333333333333   0.545863926410675   0.7172\r\n",
      "17       0.7274444444444444   0.1524706333875656  0.7088\r\n",
      "18       0.7312444444444445   1.0484917163848877  0.6896\r\n",
      "19       0.7335333333333334   1.3041762113571167  0.7104\r\n",
      "20       0.7350888888888889   1.6251299381256104  0.7044\r\n",
      "21       0.7619777777777778   0.9769330024719238  0.737\r\n",
      "22       0.7643777777777778   1.2648650407791138  0.7212\r\n",
      "Average  0.668962             1.40848             0.646418\r\n"
     ]
    }
   ],
   "source": [
    "!cat cifar_train_resnet_11_18.log | head -n 200 | awk 'BEGIN {count=0;train_acc=0;val_acc=0;train_loss=0;FS=\" +|, |: \";OFS=\"\\t\";print \"epoch\\ttrain_acc\\t\\ttrain_loss\\t\\tval_acc\\t\\n\"} /^\\[+/{++count;train_acc+=$5;train_loss+=$8;val_acc+=$(NF-2);print $2, $5, $8, $(NF-2)} END {print \"Average\", train_acc/count,train_loss/count,val_acc/count}' | column -t"
   ]
  },
  {
   "cell_type": "markdown",
   "metadata": {},
   "source": [
    "#### 其他"
   ]
  },
  {
   "cell_type": "markdown",
   "metadata": {},
   "source": [
    "* awk行之间的格式输出：参考  \n",
    "https://stackoverflow.com/questions/977408/how-do-i-insert-a-blank-line-every-n-lines-using-awk"
   ]
  },
  {
   "cell_type": "code",
   "execution_count": null,
   "metadata": {},
   "outputs": [],
   "source": []
  }
 ],
 "metadata": {
  "kernelspec": {
   "display_name": "Python 3",
   "language": "python",
   "name": "python3"
  },
  "language_info": {
   "codemirror_mode": {
    "name": "ipython",
    "version": 3
   },
   "file_extension": ".py",
   "mimetype": "text/x-python",
   "name": "python",
   "nbconvert_exporter": "python",
   "pygments_lexer": "ipython3",
   "version": "3.6.3"
  }
 },
 "nbformat": 4,
 "nbformat_minor": 2
}
