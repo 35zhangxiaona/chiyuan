{
 "cells": [
  {
   "cell_type": "code",
   "execution_count": 38,
   "metadata": {},
   "outputs": [
    {
     "data": {
      "text/html": [
       "<div>\n",
       "<style>\n",
       "    .dataframe thead tr:only-child th {\n",
       "        text-align: right;\n",
       "    }\n",
       "\n",
       "    .dataframe thead th {\n",
       "        text-align: left;\n",
       "    }\n",
       "\n",
       "    .dataframe tbody tr th {\n",
       "        vertical-align: top;\n",
       "    }\n",
       "</style>\n",
       "<table border=\"1\" class=\"dataframe\">\n",
       "  <thead>\n",
       "    <tr style=\"text-align: right;\">\n",
       "      <th></th>\n",
       "      <th>No.</th>\n",
       "      <th>Color</th>\n",
       "      <th>Root</th>\n",
       "      <th>Knocks</th>\n",
       "      <th>Texture</th>\n",
       "      <th>Umbilicus</th>\n",
       "      <th>Touch</th>\n",
       "      <th>Density</th>\n",
       "      <th>SugerRatio</th>\n",
       "      <th>Label</th>\n",
       "    </tr>\n",
       "  </thead>\n",
       "  <tbody>\n",
       "    <tr>\n",
       "      <th>0</th>\n",
       "      <td>1</td>\n",
       "      <td>green</td>\n",
       "      <td>curl</td>\n",
       "      <td>heavily</td>\n",
       "      <td>distinct</td>\n",
       "      <td>sunken</td>\n",
       "      <td>hard</td>\n",
       "      <td>0.697</td>\n",
       "      <td>0.460</td>\n",
       "      <td>1</td>\n",
       "    </tr>\n",
       "    <tr>\n",
       "      <th>1</th>\n",
       "      <td>2</td>\n",
       "      <td>black</td>\n",
       "      <td>curl</td>\n",
       "      <td>dull</td>\n",
       "      <td>distinct</td>\n",
       "      <td>sunken</td>\n",
       "      <td>hard</td>\n",
       "      <td>0.774</td>\n",
       "      <td>0.376</td>\n",
       "      <td>1</td>\n",
       "    </tr>\n",
       "    <tr>\n",
       "      <th>2</th>\n",
       "      <td>3</td>\n",
       "      <td>black</td>\n",
       "      <td>curl</td>\n",
       "      <td>heavily</td>\n",
       "      <td>distinct</td>\n",
       "      <td>sunken</td>\n",
       "      <td>hard</td>\n",
       "      <td>0.634</td>\n",
       "      <td>0.264</td>\n",
       "      <td>1</td>\n",
       "    </tr>\n",
       "    <tr>\n",
       "      <th>3</th>\n",
       "      <td>4</td>\n",
       "      <td>green</td>\n",
       "      <td>curl</td>\n",
       "      <td>dull</td>\n",
       "      <td>distinct</td>\n",
       "      <td>sunken</td>\n",
       "      <td>hard</td>\n",
       "      <td>0.608</td>\n",
       "      <td>0.318</td>\n",
       "      <td>1</td>\n",
       "    </tr>\n",
       "    <tr>\n",
       "      <th>4</th>\n",
       "      <td>5</td>\n",
       "      <td>white</td>\n",
       "      <td>curl</td>\n",
       "      <td>heavily</td>\n",
       "      <td>distinct</td>\n",
       "      <td>sunken</td>\n",
       "      <td>hard</td>\n",
       "      <td>0.556</td>\n",
       "      <td>0.215</td>\n",
       "      <td>1</td>\n",
       "    </tr>\n",
       "  </tbody>\n",
       "</table>\n",
       "</div>"
      ],
      "text/plain": [
       "   No.  Color  Root   Knocks   Texture Umbilicus Touch  Density  SugerRatio  \\\n",
       "0    1  green  curl  heavily  distinct    sunken  hard    0.697       0.460   \n",
       "1    2  black  curl     dull  distinct    sunken  hard    0.774       0.376   \n",
       "2    3  black  curl  heavily  distinct    sunken  hard    0.634       0.264   \n",
       "3    4  green  curl     dull  distinct    sunken  hard    0.608       0.318   \n",
       "4    5  white  curl  heavily  distinct    sunken  hard    0.556       0.215   \n",
       "\n",
       "   Label  \n",
       "0      1  \n",
       "1      1  \n",
       "2      1  \n",
       "3      1  \n",
       "4      1  "
      ]
     },
     "execution_count": 38,
     "metadata": {},
     "output_type": "execute_result"
    }
   ],
   "source": [
    "from pandas import read_csv\n",
    "from sklearn.preprocessing import LabelEncoder  \n",
    "import pandas as pd\n",
    "import numpy as np\n",
    "DEBUG = 0\n",
    "encoder = LabelEncoder()\n",
    "data_watermelon = read_csv('watermelon3_0_En.csv')\n",
    "data_watermelon.head()"
   ]
  },
  {
   "cell_type": "code",
   "execution_count": 2,
   "metadata": {},
   "outputs": [
    {
     "name": "stdout",
     "output_type": "stream",
     "text": [
      "<class 'pandas.core.frame.DataFrame'>\n",
      "RangeIndex: 17 entries, 0 to 16\n",
      "Data columns (total 10 columns):\n",
      "No.           17 non-null int64\n",
      "Color         17 non-null object\n",
      "Root          17 non-null object\n",
      "Knocks        17 non-null object\n",
      "Texture       17 non-null object\n",
      "Umbilicus     17 non-null object\n",
      "Touch         17 non-null object\n",
      "Density       17 non-null float64\n",
      "SugerRatio    17 non-null float64\n",
      "Label         17 non-null int64\n",
      "dtypes: float64(2), int64(2), object(6)\n",
      "memory usage: 1.4+ KB\n"
     ]
    }
   ],
   "source": [
    "data_watermelon.info()"
   ]
  },
  {
   "cell_type": "code",
   "execution_count": 27,
   "metadata": {},
   "outputs": [],
   "source": [
    "data_watermelon.drop(['No.'], axis=1, inplace=True)\n",
    "X0 = data_watermelon.drop(['Label'], axis = 1)\n",
    "y = data_watermelon['Label'].copy()\n",
    "# X_test = X0[0:1]  #把第一个样本作为测试集\n",
    "# y_test = y[0:1]\n",
    "# X0 = X0[1:]\n",
    "# y = y[1:]\n",
    "# print(len(X0))"
   ]
  },
  {
   "cell_type": "code",
   "execution_count": 18,
   "metadata": {},
   "outputs": [
    {
     "data": {
      "text/plain": [
       "array([0], dtype=int64)"
      ]
     },
     "execution_count": 18,
     "metadata": {},
     "output_type": "execute_result"
    }
   ],
   "source": [
    "from sklearn.preprocessing import LabelEncoder\n",
    "encoder = LabelEncoder()\n",
    "text_feature = list(X0)[:-2]\n",
    "continuous_feature = list(X0)[-2:]\n",
    "encoder.fit_transform(X0[text_feature[1]]) #注意这里映射之后的结果为列向量，并不能直接用dataframe转换\n",
    "# encoder.transform(X_test[text_feature[2]])\n",
    "encoder.transform(['curl'])"
   ]
  },
  {
   "cell_type": "code",
   "execution_count": 6,
   "metadata": {},
   "outputs": [
    {
     "name": "stdout",
     "output_type": "stream",
     "text": [
      "[array([1, 0, 0, 1, 2, 1, 0, 0, 0, 1, 2, 2, 1, 2, 0, 2, 1], dtype=int64), array([0, 0, 0, 0, 0, 1, 1, 1, 1, 2, 2, 0, 1, 1, 1, 0, 0], dtype=int64), array([2, 1, 2, 1, 2, 2, 2, 2, 1, 0, 0, 2, 2, 1, 2, 2, 1], dtype=int64), array([1, 1, 1, 1, 1, 1, 0, 1, 0, 1, 2, 2, 0, 0, 1, 2, 0], dtype=int64), array([2, 3, 3, 3, 3, 0, 0, 0, 0, 1, 1, 1, 3, 3, 0, 1, 0], dtype=int64), array([0, 0, 0, 0, 0, 1, 1, 0, 0, 1, 0, 1, 0, 0, 1, 0, 0], dtype=int64)]\n",
      "   Color  Root  Knocks  Texture  Umbilicus  Touch  Density  SugerRatio\n",
      "0    1.0   0.0     2.0      1.0        2.0    0.0    0.697       0.460\n",
      "1    0.0   0.0     1.0      1.0        3.0    0.0    0.774       0.376\n",
      "2    0.0   0.0     2.0      1.0        3.0    0.0    0.634       0.264\n",
      "3    1.0   0.0     1.0      1.0        3.0    0.0    0.608       0.318\n",
      "4    2.0   0.0     2.0      1.0        3.0    0.0    0.556       0.215\n",
      "5    1.0   1.0     2.0      1.0        0.0    1.0    0.403       0.237\n"
     ]
    }
   ],
   "source": [
    "X_text_features = [encoder.fit_transform(X0[feature]) for feature in text_feature]\n",
    "print(X_text_features)\n",
    "import pandas as pd\n",
    "import numpy as np\n",
    "X = pd.DataFrame(np.c_[np.array(X_text_features).T, np.array(X0[['Density','SugerRatio']])],columns=list(X0))\n",
    "print(X[:6])"
   ]
  },
  {
   "cell_type": "code",
   "execution_count": 7,
   "metadata": {},
   "outputs": [
    {
     "data": {
      "text/plain": [
       "['Density', 'SugerRatio']"
      ]
     },
     "execution_count": 7,
     "metadata": {},
     "output_type": "execute_result"
    }
   ],
   "source": [
    "[name for name in list(X0) if name not in text_feature]"
   ]
  },
  {
   "cell_type": "code",
   "execution_count": 28,
   "metadata": {},
   "outputs": [],
   "source": [
    "#注意：到时候对于测试集，也要经过上述一系列预处理。故考虑写一个custom transformer\n",
    "from sklearn.base import BaseEstimator, TransformerMixin\n",
    "class Melon_attribute_transformer(BaseEstimator, TransformerMixin):\n",
    "    def __init__(self, text_features):\n",
    "        self.text_features = text_features\n",
    "    def fit(self, X, y = None):\n",
    "        self.continuous_features = [name for name in list(X) if name not in text_feature]\n",
    "        return self # 不做处理\n",
    "    def transform(self, X, y = None):\n",
    "        X_text_features = [encoder.fit_transform(X[feature]) for feature in self.text_features]\n",
    "        # 这样写虽然能解决X_text_features的映射问题，但是实际上使用了六个enconder，最终encoder的结果是由最后一个feature所fit而得的\n",
    "        # 所以无法利用前五个encoder对前五种feature进行transform\n",
    "        # 故：encoder.transform(X_test) 结果出错，显示出现了新的feature\n",
    "        return pd.DataFrame(np.c_[np.array(X_text_features).T, np.array(X[self.continuous_features])],columns=list(X))\n",
    "\n",
    "text_feature = list(X0)[:-2]\n",
    "melon_transformer = Melon_attribute_transformer(text_features=text_feature)\n",
    "X_transformed = melon_transformer.fit_transform(X0, y)\n",
    "# melon_transformer.predict(X_test)\n",
    "X_test = np.array(X_transformed[1:2])[0] #注意：在函数中若使用切片，则操作np.array比dataframe方便\n",
    "y_test = np.array(y[1:2])\n",
    "X = np.array(X_transformed[2:])\n",
    "y = np.array(y[2:])"
   ]
  },
  {
   "cell_type": "code",
   "execution_count": 35,
   "metadata": {},
   "outputs": [
    {
     "data": {
      "text/plain": [
       "1"
      ]
     },
     "execution_count": 35,
     "metadata": {},
     "output_type": "execute_result"
    }
   ],
   "source": [
    "y[3]"
   ]
  },
  {
   "cell_type": "code",
   "execution_count": 37,
   "metadata": {},
   "outputs": [
    {
     "ename": "NameError",
     "evalue": "name 'DEBUG' is not defined",
     "output_type": "error",
     "traceback": [
      "\u001b[1;31m---------------------------------------------------------------------------\u001b[0m",
      "\u001b[1;31mNameError\u001b[0m                                 Traceback (most recent call last)",
      "\u001b[1;32m<ipython-input-37-3df1cc8281ed>\u001b[0m in \u001b[0;36m<module>\u001b[1;34m()\u001b[0m\n\u001b[0;32m     27\u001b[0m     \u001b[1;32mreturn\u001b[0m \u001b[0mbest_ind\u001b[0m\u001b[1;33m\u001b[0m\u001b[0m\n\u001b[0;32m     28\u001b[0m \u001b[1;33m\u001b[0m\u001b[0m\n\u001b[1;32m---> 29\u001b[1;33m \u001b[1;32mif\u001b[0m \u001b[0mDEBUG\u001b[0m\u001b[1;33m:\u001b[0m\u001b[1;33m\u001b[0m\u001b[0m\n\u001b[0m\u001b[0;32m     30\u001b[0m     \u001b[0mprint\u001b[0m\u001b[1;33m(\u001b[0m\u001b[1;34m'预测结果为：'\u001b[0m\u001b[1;33m,\u001b[0m\u001b[0mnaive_bayesian\u001b[0m\u001b[1;33m(\u001b[0m\u001b[0mX\u001b[0m\u001b[1;33m,\u001b[0m \u001b[0my\u001b[0m\u001b[1;33m,\u001b[0m \u001b[0mX\u001b[0m\u001b[1;33m[\u001b[0m\u001b[1;36m10\u001b[0m\u001b[1;33m]\u001b[0m\u001b[1;33m)\u001b[0m\u001b[1;33m,\u001b[0m \u001b[1;34m'实际结果为：'\u001b[0m\u001b[1;33m,\u001b[0m \u001b[0my\u001b[0m\u001b[1;33m[\u001b[0m\u001b[1;36m10\u001b[0m\u001b[1;33m]\u001b[0m\u001b[1;33m)\u001b[0m\u001b[1;33m\u001b[0m\u001b[0m\n\u001b[0;32m     31\u001b[0m \u001b[1;32melse\u001b[0m\u001b[1;33m:\u001b[0m\u001b[1;33m\u001b[0m\u001b[0m\n",
      "\u001b[1;31mNameError\u001b[0m: name 'DEBUG' is not defined"
     ]
    }
   ],
   "source": [
    "def naive_bayesian(X, y, predict):\n",
    "    #     predict = melon_transformer.transform(predict)  #没有能够实现用自己定义的transformer对原始test数据也进行转换....\n",
    "    label_unique = set(y)\n",
    "    num_labels = len(label_unique)\n",
    "    joint_p = num_labels * [1]  # [1, 1]  joint_p 代表对于每个类别C，求出他的若干个相互独立的p(x_i|C)的乘积，即联合概率密度\n",
    "    for label_index, label in enumerate(label_unique):\n",
    "        #         X_C = X[y == label]  ##这里由于y是向量不是矩阵，所以索引不方便\n",
    "        X_C = X[np.array(y == label).T]\n",
    "        P_C = (len(X_C) + 1) / (len(y) + num_labels )\n",
    "        for feature_index, x_i in enumerate(predict):\n",
    "            num_features = len(set(X_C[:, feature_index]))\n",
    "            if feature_index in range(6, 8):  # 第六、七个属性为连续属性\n",
    "                mean_c_xi = np.mean(X_C[:, feature_index])  # 求出x_i 的均值和标准差以估计概率密度函数\n",
    "                std_c_xi = np.std(X_C[:, feature_index],ddof=1) #为了和书中保持结果严格一致，使用无偏标准差计算\n",
    "                joint_p[label_index] *= np.exp(-(x_i - mean_c_xi) ** 2 / (2 * std_c_xi ** 2)) / np.sqrt(\n",
    "                    np.pi * 2) / std_c_xi\n",
    "            else:  #错误：忘记加else，导致最后两个连续属性计算完之后又接着乘以下面的D_c_xi\n",
    "                D_C_xi = np.sum(X_C[:, feature_index] == x_i)\n",
    "                joint_p[label_index] *= (D_C_xi + 1) / (len(X_C) + num_features )\n",
    "        joint_p[label_index] *= P_C\n",
    "    max_p = 0\n",
    "    best_ind = 0\n",
    "    for ind, prob in enumerate(joint_p):  #未加入拉普拉斯修正时：第一个样本结果：坏瓜：6.85*10-5  第二个样本结果： 0.0523\n",
    "        if max_p < prob:\n",
    "            max_p = prob\n",
    "            best_ind = ind\n",
    "    return best_ind\n",
    "\n",
    "if DEBUG:\n",
    "    print('预测结果为：',naive_bayesian(X, y, X[10]), '实际结果为：', y[10])\n",
    "else:\n",
    "    print('预测结果为：',naive_bayesian(X, y, X_test), '实际结果为：', y_test)\n",
    "#实验结果：所有的训练集结果均严格正确。西瓜书152页p凹陷|是 有错，应为5/8         \n",
    "                "
   ]
  },
  {
   "cell_type": "code",
   "execution_count": 49,
   "metadata": {},
   "outputs": [],
   "source": [
    "    label_unique = set(y)\n",
    "    num_labels = len(label_unique)\n",
    "    joint_p = num_labels*[1] # [1, 1]\n",
    "    "
   ]
  },
  {
   "cell_type": "code",
   "execution_count": null,
   "metadata": {},
   "outputs": [],
   "source": []
  }
 ],
 "metadata": {
  "kernelspec": {
   "display_name": "Python 3",
   "language": "python",
   "name": "python3"
  },
  "language_info": {
   "codemirror_mode": {
    "name": "ipython",
    "version": 3
   },
   "file_extension": ".py",
   "mimetype": "text/x-python",
   "name": "python",
   "nbconvert_exporter": "python",
   "pygments_lexer": "ipython3",
   "version": "3.6.2"
  }
 },
 "nbformat": 4,
 "nbformat_minor": 2
}
