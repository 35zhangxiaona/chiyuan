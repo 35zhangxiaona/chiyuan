{
 "cells": [
  {
   "cell_type": "markdown",
   "metadata": {},
   "source": [
    "##### 该脚本从零开始实现一个线性支持向量机分类器，并封装成sklearn中的estimator形式。（使用Batch Gradient Descent进行训练）"
   ]
  },
  {
   "cell_type": "markdown",
   "metadata": {},
   "source": [
    "准备工作：\n",
    "\n",
    "①HyperParams：soft margin 程度系数C; 学习率和decay eta0, eta_d; 训练epoch数：n_epochs\n",
    "\n",
    "②对象应有属性：常数项intercept_; 权重矩阵coef_; 支持向量 support_vectors_\n",
    "\n",
    "③计算公式：\n",
    "\n",
    "理论上: t_i = +1 或 -1.这里使用的二分类标签为0或1，所以t_i:\n",
    "\n",
    "      t_i = 2 * y-1, 其中y为每一个instance的标签\n",
    "\n",
    "Loss 函数：\n",
    "\n",
    "L = 1/2 * w.T * w - C * ∑α_i * [t_i (w*x_i+b)-1] , 其中α_i只有在x_i为支持向量时才不为零\n",
    "\n",
    "注意：这里当x_i为支持向量时，令KKT multiplier (α_i)值为1.否则为0. 为什么可以这样处理？？？？？？？？？？？？？？？？\n",
    "\n",
    "  ==> 即： Loss = 1/2 * w.T.dot(w) + C * (np.sum(1-ti * X_support.dot(w)) - b * np.sum(t_support) )\n",
    "Gradient:\n",
    "\n",
    "dL/dw = w - C *  ∑α_i * t_i * x_i\n",
    "\n",
    "dL/db = -C * ∑α_i * t_i"
   ]
  },
  {
   "cell_type": "code",
   "execution_count": 59,
   "metadata": {},
   "outputs": [],
   "source": [
    "from sklearn.base import BaseEstimator\n",
    "class My_SVC(BaseEstimator):\n",
    "    def __init__(self, C = 1, eta0 = 1, eta_d = 10000, n_epochs = 1000, random_state = None):\n",
    "        self.C = C\n",
    "        self.eta0 = eta0\n",
    "        self.eta_d = eta_d\n",
    "        self.n_epochs = n_epochs\n",
    "        self.random_state = random_state\n",
    "    def eta(self, epoch):\n",
    "        return self.eta0/(epoch + self.eta_d)\n",
    "    def fit(self, X, y):\n",
    "        C = self.C\n",
    "        # 随机初始化一个w\n",
    "        if self.random_state:\n",
    "            np.random.seed(self.random_state)\n",
    "        w = np.random.randn(X.shape[1], 1)\n",
    "        b = 0\n",
    "        t = 2*y-1\n",
    "        X_t = X*t #先把X和y_i对应乘起来\n",
    "        self.loss_history = []\n",
    "        for epoch in range(self.n_epochs):\n",
    "            # 求出在当前w下的支持向量x_support\n",
    "            support_vector_ind = (X_t.dot(w)+b*t < 1).ravel()\n",
    "            X_t_sv = X_t[support_vector_ind]\n",
    "            t_sv = t[support_vector_ind]\n",
    "            # 求loss和gradient\n",
    "            Loss = 1/2 * w.T.dot(w) + C * (np.sum(1-X_t_sv.dot(w)) - b * np.sum(t_sv))\n",
    "            self.loss_history.append(Loss)\n",
    "            dw = w - C * np.sum(X_t_sv, axis = 0).reshape(-1, 1)        #注意w[mx1]，所以对x_reshape成[1xm]才能相减\n",
    "            db = -C * np.sum(t_sv)\n",
    "            lr = self.eta(epoch)\n",
    "            w = w - lr * dw\n",
    "            b = b - lr * db\n",
    "        self.coef_ = w\n",
    "        self.intercept_ = b\n",
    "        self.support_ = ((X.dot(w) + b)* t < 1).ravel()\n",
    "        self.support_vector_ = X[((X.dot(w) + b)* t < 1).ravel()]\n",
    "        \n",
    "    def decision_function(self, X):\n",
    "        return X.dot(self.coef_)+self.intercept_\n",
    "    def predict(self, X):\n",
    "        return (self.decision_function(X)>0).astype(np.float64)\n",
    "import numpy as np\n",
    "from sklearn.datasets import load_iris\n",
    "from sklearn.model_selection import train_test_split\n",
    "iris = load_iris()\n",
    "X = iris['data'][:,(2,3)]\n",
    "y = (iris['target']==2).astype(np.float64).reshape(-1, 1) \n",
    "X_train, X_test, y_train, y_test = train_test_split(X, y,test_size = 0.2)"
   ]
  },
  {
   "cell_type": "code",
   "execution_count": 88,
   "metadata": {},
   "outputs": [
    {
     "name": "stdout",
     "output_type": "stream",
     "text": [
      "测试集准确率： 1.0\n",
      "[[353.87712139]]\n",
      "[353.87712139]\n",
      "353.8771213947418\n"
     ]
    },
    {
     "data": {
      "text/plain": [
       "array([ 353.87712139, 2291.84064528,  504.17663001, ...,   30.50183969,\n",
       "         30.54066999,   30.55425586])"
      ]
     },
     "execution_count": 88,
     "metadata": {},
     "output_type": "execute_result"
    }
   ],
   "source": [
    "svm_clf = My_SVC(C = 2, eta0 = 10, n_epochs=10000, eta_d = 1000, random_state=42)\n",
    "svm_clf.fit(X_train, y_train)\n",
    "result = svm_clf.predict(X_test)\n",
    "print('测试集准确率：',np.mean(result==y_test))\n",
    "print(svm_clf.loss_history[0])\n",
    "print(svm_clf.loss_history[0][0])\n",
    "print(svm_clf.loss_history[0][0][0])\n",
    "# from tkinter import _flatten\n",
    "# loss_history = _flatten(svm_clf.loss_history)\n",
    "np.squeeze(svm_clf.loss_history)"
   ]
  },
  {
   "cell_type": "code",
   "execution_count": 86,
   "metadata": {},
   "outputs": [
    {
     "data": {
      "text/plain": [
       "[0, 10000, 0, 100]"
      ]
     },
     "execution_count": 86,
     "metadata": {},
     "output_type": "execute_result"
    },
    {
     "data": {
      "image/png": "[encoded data removed]",
      "text/plain": [
       "<matplotlib.figure.Figure at 0x20e76e254e0>"
      ]
     },
     "metadata": {},
     "output_type": "display_data"
    }
   ],
   "source": [
    "import matplotlib.pyplot as plt\n",
    "plt.plot(range(svm_clf.n_epochs), np.squeeze(svm_clf.loss_history))\n",
    "plt.axis([0, svm_clf.n_epochs, 0, 100])\n",
    "# 可见：随机初始化导致训练前期loss曲线很奇怪..."
   ]
  },
  {
   "cell_type": "code",
   "execution_count": null,
   "metadata": {},
   "outputs": [],
   "source": []
  }
 ],
 "metadata": {
  "kernelspec": {
   "display_name": "Python 3",
   "language": "python",
   "name": "python3"
  },
  "language_info": {
   "codemirror_mode": {
    "name": "ipython",
    "version": 3
   },
   "file_extension": ".py",
   "mimetype": "text/x-python",
   "name": "python",
   "nbconvert_exporter": "python",
   "pygments_lexer": "ipython3",
   "version": "3.6.3"
  }
 },
 "nbformat": 4,
 "nbformat_minor": 2
}
